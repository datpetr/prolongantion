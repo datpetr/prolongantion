{
 "cells": [
  {
   "metadata": {},
   "cell_type": "markdown",
   "source": "импортируем нужные библиотеки",
   "id": "3f01fdfabbb02ac2"
  },
  {
   "cell_type": "code",
   "id": "initial_id",
   "metadata": {
    "collapsed": true,
    "ExecuteTime": {
     "end_time": "2025-05-29T14:31:05.746174Z",
     "start_time": "2025-05-29T14:31:05.743850Z"
    }
   },
   "source": [
    "import pandas as pd\n",
    "import numpy as np\n",
    "import matplotlib.pyplot as plt\n",
    "import seaborn as sns"
   ],
   "outputs": [],
   "execution_count": 1
  },
  {
   "metadata": {},
   "cell_type": "markdown",
   "source": "### 1. Чистка данных",
   "id": "ec4be0cf115555cc"
  },
  {
   "metadata": {
    "ExecuteTime": {
     "end_time": "2025-05-29T14:31:05.780270Z",
     "start_time": "2025-05-29T14:31:05.770181Z"
    }
   },
   "cell_type": "code",
   "source": "df_financial = pd.read_csv('data/financial_data.csv')",
   "id": "8dfb73c1f91a4a74",
   "outputs": [],
   "execution_count": 2
  },
  {
   "metadata": {
    "ExecuteTime": {
     "end_time": "2025-05-29T14:31:05.940388Z",
     "start_time": "2025-05-29T14:31:05.927533Z"
    }
   },
   "cell_type": "code",
   "source": "df_financial.head()",
   "id": "41158a57116ec80b",
   "outputs": [
    {
     "data": {
      "text/plain": [
       "    id        Причина дубля Ноябрь 2022 Декабрь 2022 Январь 2023 Февраль 2023  \\\n",
       "0   42                  NaN   36 220,00          NaN         NaN          NaN   \n",
       "1  657  первая часть оплаты        стоп          NaN         NaN          NaN   \n",
       "2  657  вторая часть оплаты        стоп          NaN         NaN          NaN   \n",
       "3  594                  NaN        стоп          NaN         NaN          NaN   \n",
       "4  665                  NaN   10 000,00          NaN         NaN          NaN   \n",
       "\n",
       "  Март 2023 Апрель 2023 Май 2023 Июнь 2023 Июль 2023 Август 2023  \\\n",
       "0       NaN         NaN      NaN       NaN       NaN         NaN   \n",
       "1       NaN         NaN      NaN       NaN       NaN         NaN   \n",
       "2       NaN         NaN      NaN       NaN       NaN         NaN   \n",
       "3       NaN         NaN      NaN       NaN       NaN         NaN   \n",
       "4       NaN         NaN      NaN       NaN       NaN         NaN   \n",
       "\n",
       "  Сентябрь 2023 Октябрь 2023 Ноябрь 2023 Декабрь 2023 Январь 2024  \\\n",
       "0           NaN          NaN         NaN          NaN         NaN   \n",
       "1           NaN          NaN         NaN          NaN         NaN   \n",
       "2           NaN          NaN         NaN          NaN         NaN   \n",
       "3           NaN          NaN         NaN          NaN         NaN   \n",
       "4           NaN          NaN         NaN          NaN         NaN   \n",
       "\n",
       "  Февраль 2024                       Account  \n",
       "0          NaN  Васильев Артем Александрович  \n",
       "1          NaN  Васильев Артем Александрович  \n",
       "2          NaN  Васильев Артем Александрович  \n",
       "3          NaN  Васильев Артем Александрович  \n",
       "4          NaN  Васильев Артем Александрович  "
      ],
      "text/html": [
       "<div>\n",
       "<style scoped>\n",
       "    .dataframe tbody tr th:only-of-type {\n",
       "        vertical-align: middle;\n",
       "    }\n",
       "\n",
       "    .dataframe tbody tr th {\n",
       "        vertical-align: top;\n",
       "    }\n",
       "\n",
       "    .dataframe thead th {\n",
       "        text-align: right;\n",
       "    }\n",
       "</style>\n",
       "<table border=\"1\" class=\"dataframe\">\n",
       "  <thead>\n",
       "    <tr style=\"text-align: right;\">\n",
       "      <th></th>\n",
       "      <th>id</th>\n",
       "      <th>Причина дубля</th>\n",
       "      <th>Ноябрь 2022</th>\n",
       "      <th>Декабрь 2022</th>\n",
       "      <th>Январь 2023</th>\n",
       "      <th>Февраль 2023</th>\n",
       "      <th>Март 2023</th>\n",
       "      <th>Апрель 2023</th>\n",
       "      <th>Май 2023</th>\n",
       "      <th>Июнь 2023</th>\n",
       "      <th>Июль 2023</th>\n",
       "      <th>Август 2023</th>\n",
       "      <th>Сентябрь 2023</th>\n",
       "      <th>Октябрь 2023</th>\n",
       "      <th>Ноябрь 2023</th>\n",
       "      <th>Декабрь 2023</th>\n",
       "      <th>Январь 2024</th>\n",
       "      <th>Февраль 2024</th>\n",
       "      <th>Account</th>\n",
       "    </tr>\n",
       "  </thead>\n",
       "  <tbody>\n",
       "    <tr>\n",
       "      <th>0</th>\n",
       "      <td>42</td>\n",
       "      <td>NaN</td>\n",
       "      <td>36 220,00</td>\n",
       "      <td>NaN</td>\n",
       "      <td>NaN</td>\n",
       "      <td>NaN</td>\n",
       "      <td>NaN</td>\n",
       "      <td>NaN</td>\n",
       "      <td>NaN</td>\n",
       "      <td>NaN</td>\n",
       "      <td>NaN</td>\n",
       "      <td>NaN</td>\n",
       "      <td>NaN</td>\n",
       "      <td>NaN</td>\n",
       "      <td>NaN</td>\n",
       "      <td>NaN</td>\n",
       "      <td>NaN</td>\n",
       "      <td>NaN</td>\n",
       "      <td>Васильев Артем Александрович</td>\n",
       "    </tr>\n",
       "    <tr>\n",
       "      <th>1</th>\n",
       "      <td>657</td>\n",
       "      <td>первая часть оплаты</td>\n",
       "      <td>стоп</td>\n",
       "      <td>NaN</td>\n",
       "      <td>NaN</td>\n",
       "      <td>NaN</td>\n",
       "      <td>NaN</td>\n",
       "      <td>NaN</td>\n",
       "      <td>NaN</td>\n",
       "      <td>NaN</td>\n",
       "      <td>NaN</td>\n",
       "      <td>NaN</td>\n",
       "      <td>NaN</td>\n",
       "      <td>NaN</td>\n",
       "      <td>NaN</td>\n",
       "      <td>NaN</td>\n",
       "      <td>NaN</td>\n",
       "      <td>NaN</td>\n",
       "      <td>Васильев Артем Александрович</td>\n",
       "    </tr>\n",
       "    <tr>\n",
       "      <th>2</th>\n",
       "      <td>657</td>\n",
       "      <td>вторая часть оплаты</td>\n",
       "      <td>стоп</td>\n",
       "      <td>NaN</td>\n",
       "      <td>NaN</td>\n",
       "      <td>NaN</td>\n",
       "      <td>NaN</td>\n",
       "      <td>NaN</td>\n",
       "      <td>NaN</td>\n",
       "      <td>NaN</td>\n",
       "      <td>NaN</td>\n",
       "      <td>NaN</td>\n",
       "      <td>NaN</td>\n",
       "      <td>NaN</td>\n",
       "      <td>NaN</td>\n",
       "      <td>NaN</td>\n",
       "      <td>NaN</td>\n",
       "      <td>NaN</td>\n",
       "      <td>Васильев Артем Александрович</td>\n",
       "    </tr>\n",
       "    <tr>\n",
       "      <th>3</th>\n",
       "      <td>594</td>\n",
       "      <td>NaN</td>\n",
       "      <td>стоп</td>\n",
       "      <td>NaN</td>\n",
       "      <td>NaN</td>\n",
       "      <td>NaN</td>\n",
       "      <td>NaN</td>\n",
       "      <td>NaN</td>\n",
       "      <td>NaN</td>\n",
       "      <td>NaN</td>\n",
       "      <td>NaN</td>\n",
       "      <td>NaN</td>\n",
       "      <td>NaN</td>\n",
       "      <td>NaN</td>\n",
       "      <td>NaN</td>\n",
       "      <td>NaN</td>\n",
       "      <td>NaN</td>\n",
       "      <td>NaN</td>\n",
       "      <td>Васильев Артем Александрович</td>\n",
       "    </tr>\n",
       "    <tr>\n",
       "      <th>4</th>\n",
       "      <td>665</td>\n",
       "      <td>NaN</td>\n",
       "      <td>10 000,00</td>\n",
       "      <td>NaN</td>\n",
       "      <td>NaN</td>\n",
       "      <td>NaN</td>\n",
       "      <td>NaN</td>\n",
       "      <td>NaN</td>\n",
       "      <td>NaN</td>\n",
       "      <td>NaN</td>\n",
       "      <td>NaN</td>\n",
       "      <td>NaN</td>\n",
       "      <td>NaN</td>\n",
       "      <td>NaN</td>\n",
       "      <td>NaN</td>\n",
       "      <td>NaN</td>\n",
       "      <td>NaN</td>\n",
       "      <td>NaN</td>\n",
       "      <td>Васильев Артем Александрович</td>\n",
       "    </tr>\n",
       "  </tbody>\n",
       "</table>\n",
       "</div>"
      ]
     },
     "execution_count": 3,
     "metadata": {},
     "output_type": "execute_result"
    }
   ],
   "execution_count": 3
  },
  {
   "metadata": {},
   "cell_type": "markdown",
   "source": "похоже, что в данных есть пропуски. Посмотрим на количество пропусков в каждом столбце.",
   "id": "d6b9c8965274f42a"
  },
  {
   "metadata": {
    "ExecuteTime": {
     "end_time": "2025-05-29T14:31:06.147995Z",
     "start_time": "2025-05-29T14:31:06.143759Z"
    }
   },
   "cell_type": "code",
   "source": "missing_values = df_financial.isnull().sum()",
   "id": "96c52177332acd26",
   "outputs": [],
   "execution_count": 4
  },
  {
   "metadata": {
    "ExecuteTime": {
     "end_time": "2025-05-29T14:31:06.904228Z",
     "start_time": "2025-05-29T14:31:06.900653Z"
    }
   },
   "cell_type": "code",
   "source": [
    "missing_percentage = (missing_values / len(df_financial)) * 100\n",
    "missing_df = pd.DataFrame({\n",
    "    'Missing Values': missing_values,\n",
    "    'Percentage (%)': missing_percentage.round(2)\n",
    "})"
   ],
   "id": "e427ea38338b39d7",
   "outputs": [],
   "execution_count": 5
  },
  {
   "metadata": {
    "ExecuteTime": {
     "end_time": "2025-05-29T14:31:07.119988Z",
     "start_time": "2025-05-29T14:31:07.113372Z"
    }
   },
   "cell_type": "code",
   "source": "missing_df",
   "id": "810dde852582cf8",
   "outputs": [
    {
     "data": {
      "text/plain": [
       "               Missing Values  Percentage (%)\n",
       "id                          0            0.00\n",
       "Причина дубля             150           33.26\n",
       "Ноябрь 2022               295           65.41\n",
       "Декабрь 2022              292           64.75\n",
       "Январь 2023               312           69.18\n",
       "Февраль 2023              306           67.85\n",
       "Март 2023                 283           62.75\n",
       "Апрель 2023               277           61.42\n",
       "Май 2023                  261           57.87\n",
       "Июнь 2023                 261           57.87\n",
       "Июль 2023                 256           56.76\n",
       "Август 2023               252           55.88\n",
       "Сентябрь 2023             265           58.76\n",
       "Октябрь 2023              269           59.65\n",
       "Ноябрь 2023               280           62.08\n",
       "Декабрь 2023              305           67.63\n",
       "Январь 2024               356           78.94\n",
       "Февраль 2024              350           77.61\n",
       "Account                     0            0.00"
      ],
      "text/html": [
       "<div>\n",
       "<style scoped>\n",
       "    .dataframe tbody tr th:only-of-type {\n",
       "        vertical-align: middle;\n",
       "    }\n",
       "\n",
       "    .dataframe tbody tr th {\n",
       "        vertical-align: top;\n",
       "    }\n",
       "\n",
       "    .dataframe thead th {\n",
       "        text-align: right;\n",
       "    }\n",
       "</style>\n",
       "<table border=\"1\" class=\"dataframe\">\n",
       "  <thead>\n",
       "    <tr style=\"text-align: right;\">\n",
       "      <th></th>\n",
       "      <th>Missing Values</th>\n",
       "      <th>Percentage (%)</th>\n",
       "    </tr>\n",
       "  </thead>\n",
       "  <tbody>\n",
       "    <tr>\n",
       "      <th>id</th>\n",
       "      <td>0</td>\n",
       "      <td>0.00</td>\n",
       "    </tr>\n",
       "    <tr>\n",
       "      <th>Причина дубля</th>\n",
       "      <td>150</td>\n",
       "      <td>33.26</td>\n",
       "    </tr>\n",
       "    <tr>\n",
       "      <th>Ноябрь 2022</th>\n",
       "      <td>295</td>\n",
       "      <td>65.41</td>\n",
       "    </tr>\n",
       "    <tr>\n",
       "      <th>Декабрь 2022</th>\n",
       "      <td>292</td>\n",
       "      <td>64.75</td>\n",
       "    </tr>\n",
       "    <tr>\n",
       "      <th>Январь 2023</th>\n",
       "      <td>312</td>\n",
       "      <td>69.18</td>\n",
       "    </tr>\n",
       "    <tr>\n",
       "      <th>Февраль 2023</th>\n",
       "      <td>306</td>\n",
       "      <td>67.85</td>\n",
       "    </tr>\n",
       "    <tr>\n",
       "      <th>Март 2023</th>\n",
       "      <td>283</td>\n",
       "      <td>62.75</td>\n",
       "    </tr>\n",
       "    <tr>\n",
       "      <th>Апрель 2023</th>\n",
       "      <td>277</td>\n",
       "      <td>61.42</td>\n",
       "    </tr>\n",
       "    <tr>\n",
       "      <th>Май 2023</th>\n",
       "      <td>261</td>\n",
       "      <td>57.87</td>\n",
       "    </tr>\n",
       "    <tr>\n",
       "      <th>Июнь 2023</th>\n",
       "      <td>261</td>\n",
       "      <td>57.87</td>\n",
       "    </tr>\n",
       "    <tr>\n",
       "      <th>Июль 2023</th>\n",
       "      <td>256</td>\n",
       "      <td>56.76</td>\n",
       "    </tr>\n",
       "    <tr>\n",
       "      <th>Август 2023</th>\n",
       "      <td>252</td>\n",
       "      <td>55.88</td>\n",
       "    </tr>\n",
       "    <tr>\n",
       "      <th>Сентябрь 2023</th>\n",
       "      <td>265</td>\n",
       "      <td>58.76</td>\n",
       "    </tr>\n",
       "    <tr>\n",
       "      <th>Октябрь 2023</th>\n",
       "      <td>269</td>\n",
       "      <td>59.65</td>\n",
       "    </tr>\n",
       "    <tr>\n",
       "      <th>Ноябрь 2023</th>\n",
       "      <td>280</td>\n",
       "      <td>62.08</td>\n",
       "    </tr>\n",
       "    <tr>\n",
       "      <th>Декабрь 2023</th>\n",
       "      <td>305</td>\n",
       "      <td>67.63</td>\n",
       "    </tr>\n",
       "    <tr>\n",
       "      <th>Январь 2024</th>\n",
       "      <td>356</td>\n",
       "      <td>78.94</td>\n",
       "    </tr>\n",
       "    <tr>\n",
       "      <th>Февраль 2024</th>\n",
       "      <td>350</td>\n",
       "      <td>77.61</td>\n",
       "    </tr>\n",
       "    <tr>\n",
       "      <th>Account</th>\n",
       "      <td>0</td>\n",
       "      <td>0.00</td>\n",
       "    </tr>\n",
       "  </tbody>\n",
       "</table>\n",
       "</div>"
      ]
     },
     "execution_count": 6,
     "metadata": {},
     "output_type": "execute_result"
    }
   ],
   "execution_count": 6
  },
  {
   "metadata": {},
   "cell_type": "markdown",
   "source": "Скорее всего пропусти в таблицы объясняют что тогда не было никаких транзакций, так что можно их заполнить нулями.",
   "id": "7abd2844d41f0d24"
  },
  {
   "metadata": {
    "ExecuteTime": {
     "end_time": "2025-05-29T14:31:07.281279Z",
     "start_time": "2025-05-29T14:31:07.276644Z"
    }
   },
   "cell_type": "code",
   "source": "df_financial.fillna(0, inplace=True)",
   "id": "befa17a5b9d17278",
   "outputs": [],
   "execution_count": 7
  },
  {
   "metadata": {
    "ExecuteTime": {
     "end_time": "2025-05-29T14:31:07.543826Z",
     "start_time": "2025-05-29T14:31:07.537563Z"
    }
   },
   "cell_type": "code",
   "source": "df_financial.isnull().sum()",
   "id": "1428959e0be9645f",
   "outputs": [
    {
     "data": {
      "text/plain": [
       "id               0\n",
       "Причина дубля    0\n",
       "Ноябрь 2022      0\n",
       "Декабрь 2022     0\n",
       "Январь 2023      0\n",
       "Февраль 2023     0\n",
       "Март 2023        0\n",
       "Апрель 2023      0\n",
       "Май 2023         0\n",
       "Июнь 2023        0\n",
       "Июль 2023        0\n",
       "Август 2023      0\n",
       "Сентябрь 2023    0\n",
       "Октябрь 2023     0\n",
       "Ноябрь 2023      0\n",
       "Декабрь 2023     0\n",
       "Январь 2024      0\n",
       "Февраль 2024     0\n",
       "Account          0\n",
       "dtype: int64"
      ]
     },
     "execution_count": 8,
     "metadata": {},
     "output_type": "execute_result"
    }
   ],
   "execution_count": 8
  },
  {
   "metadata": {
    "ExecuteTime": {
     "end_time": "2025-05-29T14:31:07.748235Z",
     "start_time": "2025-05-29T14:31:07.741574Z"
    }
   },
   "cell_type": "code",
   "source": "df_prolongations = pd.read_csv('data/prolongations.csv')",
   "id": "432c722bc6ce081",
   "outputs": [],
   "execution_count": 9
  },
  {
   "metadata": {
    "ExecuteTime": {
     "end_time": "2025-05-29T14:31:07.922177Z",
     "start_time": "2025-05-29T14:31:07.916884Z"
    }
   },
   "cell_type": "code",
   "source": "df_prolongations.head()",
   "id": "4498a585bebc7856",
   "outputs": [
    {
     "data": {
      "text/plain": [
       "    id        month                             AM\n",
       "0   42  ноябрь 2022   Васильев Артем Александрович\n",
       "1  453  ноябрь 2022   Васильев Артем Александрович\n",
       "2  548  ноябрь 2022      Михайлов Андрей Сергеевич\n",
       "3   87  ноябрь 2022  Соколова Анастасия Викторовна\n",
       "4  429  ноябрь 2022  Соколова Анастасия Викторовна"
      ],
      "text/html": [
       "<div>\n",
       "<style scoped>\n",
       "    .dataframe tbody tr th:only-of-type {\n",
       "        vertical-align: middle;\n",
       "    }\n",
       "\n",
       "    .dataframe tbody tr th {\n",
       "        vertical-align: top;\n",
       "    }\n",
       "\n",
       "    .dataframe thead th {\n",
       "        text-align: right;\n",
       "    }\n",
       "</style>\n",
       "<table border=\"1\" class=\"dataframe\">\n",
       "  <thead>\n",
       "    <tr style=\"text-align: right;\">\n",
       "      <th></th>\n",
       "      <th>id</th>\n",
       "      <th>month</th>\n",
       "      <th>AM</th>\n",
       "    </tr>\n",
       "  </thead>\n",
       "  <tbody>\n",
       "    <tr>\n",
       "      <th>0</th>\n",
       "      <td>42</td>\n",
       "      <td>ноябрь 2022</td>\n",
       "      <td>Васильев Артем Александрович</td>\n",
       "    </tr>\n",
       "    <tr>\n",
       "      <th>1</th>\n",
       "      <td>453</td>\n",
       "      <td>ноябрь 2022</td>\n",
       "      <td>Васильев Артем Александрович</td>\n",
       "    </tr>\n",
       "    <tr>\n",
       "      <th>2</th>\n",
       "      <td>548</td>\n",
       "      <td>ноябрь 2022</td>\n",
       "      <td>Михайлов Андрей Сергеевич</td>\n",
       "    </tr>\n",
       "    <tr>\n",
       "      <th>3</th>\n",
       "      <td>87</td>\n",
       "      <td>ноябрь 2022</td>\n",
       "      <td>Соколова Анастасия Викторовна</td>\n",
       "    </tr>\n",
       "    <tr>\n",
       "      <th>4</th>\n",
       "      <td>429</td>\n",
       "      <td>ноябрь 2022</td>\n",
       "      <td>Соколова Анастасия Викторовна</td>\n",
       "    </tr>\n",
       "  </tbody>\n",
       "</table>\n",
       "</div>"
      ]
     },
     "execution_count": 10,
     "metadata": {},
     "output_type": "execute_result"
    }
   ],
   "execution_count": 10
  },
  {
   "metadata": {
    "ExecuteTime": {
     "end_time": "2025-05-29T14:31:08.199055Z",
     "start_time": "2025-05-29T14:31:08.195005Z"
    }
   },
   "cell_type": "code",
   "source": "df_prolongations.isnull().sum()",
   "id": "755d087c6c175415",
   "outputs": [
    {
     "data": {
      "text/plain": [
       "id       0\n",
       "month    0\n",
       "AM       0\n",
       "dtype: int64"
      ]
     },
     "execution_count": 11,
     "metadata": {},
     "output_type": "execute_result"
    }
   ],
   "execution_count": 11
  },
  {
   "metadata": {},
   "cell_type": "markdown",
   "source": "Здесь нет пропусков, давайте посмотрим на количество уникальных значений в каждом столбце.",
   "id": "11170eeb5220b491"
  },
  {
   "metadata": {
    "ExecuteTime": {
     "end_time": "2025-05-29T14:31:08.489729Z",
     "start_time": "2025-05-29T14:31:08.483089Z"
    }
   },
   "cell_type": "code",
   "source": "df_prolongations.nunique()",
   "id": "7417b6a68a48de99",
   "outputs": [
    {
     "data": {
      "text/plain": [
       "id       313\n",
       "month     14\n",
       "AM        10\n",
       "dtype: int64"
      ]
     },
     "execution_count": 12,
     "metadata": {},
     "output_type": "execute_result"
    }
   ],
   "execution_count": 12
  },
  {
   "metadata": {
    "ExecuteTime": {
     "end_time": "2025-05-29T14:31:08.690429Z",
     "start_time": "2025-05-29T14:31:08.683889Z"
    }
   },
   "cell_type": "code",
   "source": "df_financial.nunique()",
   "id": "afd32b71a34892fc",
   "outputs": [
    {
     "data": {
      "text/plain": [
       "id               314\n",
       "Причина дубля      7\n",
       "Ноябрь 2022      143\n",
       "Декабрь 2022     141\n",
       "Январь 2023      135\n",
       "Февраль 2023     139\n",
       "Март 2023        163\n",
       "Апрель 2023      162\n",
       "Май 2023         180\n",
       "Июнь 2023        170\n",
       "Июль 2023        181\n",
       "Август 2023      180\n",
       "Сентябрь 2023    169\n",
       "Октябрь 2023     164\n",
       "Ноябрь 2023      146\n",
       "Декабрь 2023     138\n",
       "Январь 2024       84\n",
       "Февраль 2024      92\n",
       "Account           10\n",
       "dtype: int64"
      ]
     },
     "execution_count": 13,
     "metadata": {},
     "output_type": "execute_result"
    }
   ],
   "execution_count": 13
  },
  {
   "metadata": {
    "ExecuteTime": {
     "end_time": "2025-05-29T14:31:08.870631Z",
     "start_time": "2025-05-29T14:31:08.865276Z"
    }
   },
   "cell_type": "code",
   "source": "df_financial['Причина дубля'].value_counts(dropna=False)",
   "id": "e6883bf96725f821",
   "outputs": [
    {
     "data": {
      "text/plain": [
       "Причина дубля\n",
       "0                      150\n",
       "первая часть оплаты    114\n",
       "вторая часть оплаты     99\n",
       "доп работы              38\n",
       "основные работы         38\n",
       "изменение ЮЛ            11\n",
       "карты, банки             1\n",
       "Name: count, dtype: int64"
      ]
     },
     "execution_count": 14,
     "metadata": {},
     "output_type": "execute_result"
    }
   ],
   "execution_count": 14
  },
  {
   "metadata": {},
   "cell_type": "markdown",
   "source": "похоже, что данные готовы к дальнейшей обработке. Давайте трансформируем их так, чтобы можно было легко анализировать финансовые данные по месяцам.",
   "id": "4d0121fb4729289a"
  },
  {
   "metadata": {
    "ExecuteTime": {
     "end_time": "2025-05-29T14:31:09.101997Z",
     "start_time": "2025-05-29T14:31:09.094061Z"
    }
   },
   "cell_type": "code",
   "source": "df_financial.info()",
   "id": "a38a4d3c4fb0b133",
   "outputs": [
    {
     "name": "stdout",
     "output_type": "stream",
     "text": [
      "<class 'pandas.core.frame.DataFrame'>\n",
      "RangeIndex: 451 entries, 0 to 450\n",
      "Data columns (total 19 columns):\n",
      " #   Column         Non-Null Count  Dtype \n",
      "---  ------         --------------  ----- \n",
      " 0   id             451 non-null    int64 \n",
      " 1   Причина дубля  451 non-null    object\n",
      " 2   Ноябрь 2022    451 non-null    object\n",
      " 3   Декабрь 2022   451 non-null    object\n",
      " 4   Январь 2023    451 non-null    object\n",
      " 5   Февраль 2023   451 non-null    object\n",
      " 6   Март 2023      451 non-null    object\n",
      " 7   Апрель 2023    451 non-null    object\n",
      " 8   Май 2023       451 non-null    object\n",
      " 9   Июнь 2023      451 non-null    object\n",
      " 10  Июль 2023      451 non-null    object\n",
      " 11  Август 2023    451 non-null    object\n",
      " 12  Сентябрь 2023  451 non-null    object\n",
      " 13  Октябрь 2023   451 non-null    object\n",
      " 14  Ноябрь 2023    451 non-null    object\n",
      " 15  Декабрь 2023   451 non-null    object\n",
      " 16  Январь 2024    451 non-null    object\n",
      " 17  Февраль 2024   451 non-null    object\n",
      " 18  Account        451 non-null    object\n",
      "dtypes: int64(1), object(18)\n",
      "memory usage: 67.1+ KB\n"
     ]
    }
   ],
   "execution_count": 15
  },
  {
   "metadata": {},
   "cell_type": "markdown",
   "source": "давайте создадим month mapping, чтобы преобразовать названия месяцев в числа. Это поможет нам в дальнейшем анализе и визуализации данных.",
   "id": "cad398a02e2a5c90"
  },
  {
   "metadata": {
    "ExecuteTime": {
     "end_time": "2025-05-29T14:35:35.396186Z",
     "start_time": "2025-05-29T14:35:35.391989Z"
    }
   },
   "cell_type": "code",
   "source": [
    "month_map = {\n",
    "    'январь': 1, 'февраль': 2, 'март': 3, 'апрель': 4,\n",
    "    'май': 5, 'июнь': 6, 'июль': 7, 'август': 8,\n",
    "    'сентябрь': 9, 'октябрь': 10, 'ноябрь': 11, 'декабрь': 12\n",
    "}\n",
    "\n",
    "# Создадим расширенную карту месяцев, учитывая названия с годами\n",
    "extended_month_map = {}\n",
    "for year in [2022, 2023, 2024]:\n",
    "    for month, num in month_map.items():\n",
    "        month_with_year = f\"{month.capitalize()} {year}\"\n",
    "        extended_month_map[month_with_year] = (year, num)\n"
   ],
   "id": "fb1109106196ceec",
   "outputs": [],
   "execution_count": 23
  },
  {
   "metadata": {},
   "cell_type": "markdown",
   "source": "преобразуем финансовые данные в удобный формат с помощью melt и правильно обработаем столбцы с датами",
   "id": "e6fb0dfc19fe72d4"
  },
  {
   "metadata": {
    "ExecuteTime": {
     "end_time": "2025-05-29T14:35:39.677010Z",
     "start_time": "2025-05-29T14:35:39.670898Z"
    }
   },
   "cell_type": "code",
   "source": [
    "df_financial_melted = pd.melt(\n",
    "    df_financial,\n",
    "    id_vars=['id', 'Причина дубля', 'Account'],\n",
    "    var_name = 'month',\n",
    "    value_name = 'amount'\n",
    ")"
   ],
   "id": "4d46d24757494eae",
   "outputs": [],
   "execution_count": 24
  },
  {
   "metadata": {
    "ExecuteTime": {
     "end_time": "2025-05-29T14:39:37.490166Z",
     "start_time": "2025-05-29T14:39:37.484774Z"
    }
   },
   "cell_type": "code",
   "source": "df_financial_melted.head()",
   "id": "dcbca9a7852bef3a",
   "outputs": [
    {
     "data": {
      "text/plain": [
       "    id        Причина дубля                       Account        month  \\\n",
       "0   42                    0  Васильев Артем Александрович  Ноябрь 2022   \n",
       "1  657  первая часть оплаты  Васильев Артем Александрович  Ноябрь 2022   \n",
       "2  657  вторая часть оплаты  Васильев Артем Александрович  Ноябрь 2022   \n",
       "3  594                    0  Васильев Артем Александрович  Ноябрь 2022   \n",
       "4  665                    0  Васильев Артем Александрович  Ноябрь 2022   \n",
       "\n",
       "    amount  \n",
       "0  36220.0  \n",
       "1      0.0  \n",
       "2      0.0  \n",
       "3      0.0  \n",
       "4  10000.0  "
      ],
      "text/html": [
       "<div>\n",
       "<style scoped>\n",
       "    .dataframe tbody tr th:only-of-type {\n",
       "        vertical-align: middle;\n",
       "    }\n",
       "\n",
       "    .dataframe tbody tr th {\n",
       "        vertical-align: top;\n",
       "    }\n",
       "\n",
       "    .dataframe thead th {\n",
       "        text-align: right;\n",
       "    }\n",
       "</style>\n",
       "<table border=\"1\" class=\"dataframe\">\n",
       "  <thead>\n",
       "    <tr style=\"text-align: right;\">\n",
       "      <th></th>\n",
       "      <th>id</th>\n",
       "      <th>Причина дубля</th>\n",
       "      <th>Account</th>\n",
       "      <th>month</th>\n",
       "      <th>amount</th>\n",
       "    </tr>\n",
       "  </thead>\n",
       "  <tbody>\n",
       "    <tr>\n",
       "      <th>0</th>\n",
       "      <td>42</td>\n",
       "      <td>0</td>\n",
       "      <td>Васильев Артем Александрович</td>\n",
       "      <td>Ноябрь 2022</td>\n",
       "      <td>36220.0</td>\n",
       "    </tr>\n",
       "    <tr>\n",
       "      <th>1</th>\n",
       "      <td>657</td>\n",
       "      <td>первая часть оплаты</td>\n",
       "      <td>Васильев Артем Александрович</td>\n",
       "      <td>Ноябрь 2022</td>\n",
       "      <td>0.0</td>\n",
       "    </tr>\n",
       "    <tr>\n",
       "      <th>2</th>\n",
       "      <td>657</td>\n",
       "      <td>вторая часть оплаты</td>\n",
       "      <td>Васильев Артем Александрович</td>\n",
       "      <td>Ноябрь 2022</td>\n",
       "      <td>0.0</td>\n",
       "    </tr>\n",
       "    <tr>\n",
       "      <th>3</th>\n",
       "      <td>594</td>\n",
       "      <td>0</td>\n",
       "      <td>Васильев Артем Александрович</td>\n",
       "      <td>Ноябрь 2022</td>\n",
       "      <td>0.0</td>\n",
       "    </tr>\n",
       "    <tr>\n",
       "      <th>4</th>\n",
       "      <td>665</td>\n",
       "      <td>0</td>\n",
       "      <td>Васильев Артем Александрович</td>\n",
       "      <td>Ноябрь 2022</td>\n",
       "      <td>10000.0</td>\n",
       "    </tr>\n",
       "  </tbody>\n",
       "</table>\n",
       "</div>"
      ]
     },
     "execution_count": 30,
     "metadata": {},
     "output_type": "execute_result"
    }
   ],
   "execution_count": 30
  },
  {
   "metadata": {},
   "cell_type": "markdown",
   "source": "Преобразуем строковые значение сумм в числа",
   "id": "e9b8f5bb3fbf75f9"
  },
  {
   "metadata": {},
   "cell_type": "code",
   "outputs": [],
   "execution_count": 29,
   "source": [
    "df_financial_melted['amount'] = df_financial_melted['amount'].replace('стоп', '0')\n",
    "df_financial_melted['amount'] = df_financial_melted['amount'].replace('в ноль', '0')\n",
    "df_financial_melted['amount'] = df_financial_melted['amount'].replace('end', '0')  # Добавляем обработку строки 'end'\n",
    "df_financial_melted['amount'] = df_financial_melted['amount'].astype(str).str.replace(' ', '').str.replace('\\xa0', '').str.replace(',', '.').astype(float)"
   ],
   "id": "4d925e0bf360d64f"
  },
  {
   "metadata": {},
   "cell_type": "markdown",
   "source": "Извлекаем год и месяц из столбца month",
   "id": "b00c4327fd9ff769"
  },
  {
   "metadata": {
    "ExecuteTime": {
     "end_time": "2025-05-29T14:40:07.996354Z",
     "start_time": "2025-05-29T14:40:07.989970Z"
    }
   },
   "cell_type": "code",
   "source": [
    "df_financial_melted['year_month'] = df_financial_melted['month'].map(extended_month_map)\n",
    "df_financial_melted = df_financial_melted.dropna(subset=['year_month'])"
   ],
   "id": "64b92961ac9bb63",
   "outputs": [],
   "execution_count": 31
  },
  {
   "metadata": {
    "ExecuteTime": {
     "end_time": "2025-05-29T14:40:33.616756Z",
     "start_time": "2025-05-29T14:40:33.589022Z"
    }
   },
   "cell_type": "code",
   "source": [
    "df_financial_melted['year'] = df_financial_melted['year_month'].apply(lambda x: x[0])\n",
    "df_financial_melted['month_num'] = df_financial_melted['year_month'].apply(lambda x: x[1])\n",
    "df_financial_melted['date'] = pd.to_datetime(df_financial_melted['year'].astype(int).astype(str) + '-' +\n",
    "                                            df_financial_melted['month_num'].astype(int).astype(str) + '-01')"
   ],
   "id": "686c5f7cfb6f0173",
   "outputs": [],
   "execution_count": 32
  },
  {
   "metadata": {},
   "cell_type": "markdown",
   "source": "фильтруем данные, чтобы оставить только положительные суммы",
   "id": "2205d3bde992e14a"
  },
  {
   "metadata": {
    "ExecuteTime": {
     "end_time": "2025-05-29T14:41:05.339896Z",
     "start_time": "2025-05-29T14:41:05.336155Z"
    }
   },
   "cell_type": "code",
   "source": "df_financial_melted = df_financial_melted[df_financial_melted['amount'] > 0]",
   "id": "c22aebf8a24a090f",
   "outputs": [],
   "execution_count": 33
  },
  {
   "metadata": {
    "ExecuteTime": {
     "end_time": "2025-05-29T14:41:08.649149Z",
     "start_time": "2025-05-29T14:41:08.639354Z"
    }
   },
   "cell_type": "code",
   "source": "df_financial_melted.head()",
   "id": "3a4e1114187b4833",
   "outputs": [
    {
     "data": {
      "text/plain": [
       "    id        Причина дубля                        Account        month  \\\n",
       "0   42                    0   Васильев Артем Александрович  Ноябрь 2022   \n",
       "4  665                    0   Васильев Артем Александрович  Ноябрь 2022   \n",
       "5  637                    0  Соколова Анастасия Викторовна  Ноябрь 2022   \n",
       "7  578                    0    Попова Екатерина Николаевна  Ноябрь 2022   \n",
       "9  592  первая часть оплаты   Васильев Артем Александрович  Ноябрь 2022   \n",
       "\n",
       "    amount  year_month  year  month_num       date  \n",
       "0  36220.0  (2022, 11)  2022         11 2022-11-01  \n",
       "4  10000.0  (2022, 11)  2022         11 2022-11-01  \n",
       "5  38045.0  (2022, 11)  2022         11 2022-11-01  \n",
       "7  82800.0  (2022, 11)  2022         11 2022-11-01  \n",
       "9  92302.0  (2022, 11)  2022         11 2022-11-01  "
      ],
      "text/html": [
       "<div>\n",
       "<style scoped>\n",
       "    .dataframe tbody tr th:only-of-type {\n",
       "        vertical-align: middle;\n",
       "    }\n",
       "\n",
       "    .dataframe tbody tr th {\n",
       "        vertical-align: top;\n",
       "    }\n",
       "\n",
       "    .dataframe thead th {\n",
       "        text-align: right;\n",
       "    }\n",
       "</style>\n",
       "<table border=\"1\" class=\"dataframe\">\n",
       "  <thead>\n",
       "    <tr style=\"text-align: right;\">\n",
       "      <th></th>\n",
       "      <th>id</th>\n",
       "      <th>Причина дубля</th>\n",
       "      <th>Account</th>\n",
       "      <th>month</th>\n",
       "      <th>amount</th>\n",
       "      <th>year_month</th>\n",
       "      <th>year</th>\n",
       "      <th>month_num</th>\n",
       "      <th>date</th>\n",
       "    </tr>\n",
       "  </thead>\n",
       "  <tbody>\n",
       "    <tr>\n",
       "      <th>0</th>\n",
       "      <td>42</td>\n",
       "      <td>0</td>\n",
       "      <td>Васильев Артем Александрович</td>\n",
       "      <td>Ноябрь 2022</td>\n",
       "      <td>36220.0</td>\n",
       "      <td>(2022, 11)</td>\n",
       "      <td>2022</td>\n",
       "      <td>11</td>\n",
       "      <td>2022-11-01</td>\n",
       "    </tr>\n",
       "    <tr>\n",
       "      <th>4</th>\n",
       "      <td>665</td>\n",
       "      <td>0</td>\n",
       "      <td>Васильев Артем Александрович</td>\n",
       "      <td>Ноябрь 2022</td>\n",
       "      <td>10000.0</td>\n",
       "      <td>(2022, 11)</td>\n",
       "      <td>2022</td>\n",
       "      <td>11</td>\n",
       "      <td>2022-11-01</td>\n",
       "    </tr>\n",
       "    <tr>\n",
       "      <th>5</th>\n",
       "      <td>637</td>\n",
       "      <td>0</td>\n",
       "      <td>Соколова Анастасия Викторовна</td>\n",
       "      <td>Ноябрь 2022</td>\n",
       "      <td>38045.0</td>\n",
       "      <td>(2022, 11)</td>\n",
       "      <td>2022</td>\n",
       "      <td>11</td>\n",
       "      <td>2022-11-01</td>\n",
       "    </tr>\n",
       "    <tr>\n",
       "      <th>7</th>\n",
       "      <td>578</td>\n",
       "      <td>0</td>\n",
       "      <td>Попова Екатерина Николаевна</td>\n",
       "      <td>Ноябрь 2022</td>\n",
       "      <td>82800.0</td>\n",
       "      <td>(2022, 11)</td>\n",
       "      <td>2022</td>\n",
       "      <td>11</td>\n",
       "      <td>2022-11-01</td>\n",
       "    </tr>\n",
       "    <tr>\n",
       "      <th>9</th>\n",
       "      <td>592</td>\n",
       "      <td>первая часть оплаты</td>\n",
       "      <td>Васильев Артем Александрович</td>\n",
       "      <td>Ноябрь 2022</td>\n",
       "      <td>92302.0</td>\n",
       "      <td>(2022, 11)</td>\n",
       "      <td>2022</td>\n",
       "      <td>11</td>\n",
       "      <td>2022-11-01</td>\n",
       "    </tr>\n",
       "  </tbody>\n",
       "</table>\n",
       "</div>"
      ]
     },
     "execution_count": 34,
     "metadata": {},
     "output_type": "execute_result"
    }
   ],
   "execution_count": 34
  },
  {
   "metadata": {},
   "cell_type": "markdown",
   "source": [
    "### 2. Подготовка данных о пролонгациях\n",
    "\n",
    "Теперь обработаем данные о последних месяцах реализации проектов"
   ],
   "id": "9f183045f8c841bd"
  },
  {
   "metadata": {},
   "cell_type": "markdown",
   "source": "Разделим месяц и год в df_prolongations",
   "id": "906c9aaa9573e8"
  },
  {
   "metadata": {
    "ExecuteTime": {
     "end_time": "2025-05-29T14:42:02.088038Z",
     "start_time": "2025-05-29T14:42:02.077735Z"
    }
   },
   "cell_type": "code",
   "source": [
    "df_prolongations['month_str'] = df_prolongations['month'].str.split(' ').str[0].str.lower()\n",
    "df_prolongations['year'] = df_prolongations['month'].str.split(' ').str[1].astype(int)\n",
    "df_prolongations['month_num'] = df_prolongations['month_str'].map(month_map)\n",
    "df_prolongations['last_date'] = pd.to_datetime(df_prolongations['year'].astype(str) + '-' +\n",
    "                                              df_prolongations['month_num'].astype(str) + '-01')"
   ],
   "id": "718025ae4ee30049",
   "outputs": [],
   "execution_count": 35
  },
  {
   "metadata": {},
   "cell_type": "markdown",
   "source": "Добавим даты для первого и второго месяца после завершения",
   "id": "5b102f1488dfb343"
  },
  {
   "metadata": {
    "ExecuteTime": {
     "end_time": "2025-05-29T14:42:27.779313Z",
     "start_time": "2025-05-29T14:42:27.764749Z"
    }
   },
   "cell_type": "code",
   "source": [
    "df_prolongations['first_month_after'] = df_prolongations['last_date'] + pd.DateOffset(months=1)\n",
    "df_prolongations['second_month_after'] = df_prolongations['last_date'] + pd.DateOffset(months=2)"
   ],
   "id": "e3ac7ab6d90c69cf",
   "outputs": [],
   "execution_count": 36
  },
  {
   "metadata": {},
   "cell_type": "markdown",
   "source": "Отфильтруем проекты, которые завершились в 2022-2023 годах (чтобы проанализировать пролонгации за 2023)",
   "id": "7d84eb4d4cbf4036"
  },
  {
   "metadata": {
    "ExecuteTime": {
     "end_time": "2025-05-29T14:42:52.448130Z",
     "start_time": "2025-05-29T14:42:52.444566Z"
    }
   },
   "cell_type": "code",
   "source": "df_prolongations = df_prolongations[(df_prolongations['year'] >= 2022) & (df_prolongations['year'] <= 2023)]",
   "id": "1bf3a6c9a1a96105",
   "outputs": [],
   "execution_count": 37
  },
  {
   "metadata": {
    "ExecuteTime": {
     "end_time": "2025-05-29T14:42:55.640736Z",
     "start_time": "2025-05-29T14:42:55.632422Z"
    }
   },
   "cell_type": "code",
   "source": "df_prolongations.head()",
   "id": "130846ce11ee35a4",
   "outputs": [
    {
     "data": {
      "text/plain": [
       "    id        month                             AM month_str  year  month_num  \\\n",
       "0   42  ноябрь 2022   Васильев Артем Александрович    ноябрь  2022         11   \n",
       "1  453  ноябрь 2022   Васильев Артем Александрович    ноябрь  2022         11   \n",
       "2  548  ноябрь 2022      Михайлов Андрей Сергеевич    ноябрь  2022         11   \n",
       "3   87  ноябрь 2022  Соколова Анастасия Викторовна    ноябрь  2022         11   \n",
       "4  429  ноябрь 2022  Соколова Анастасия Викторовна    ноябрь  2022         11   \n",
       "\n",
       "   last_date first_month_after second_month_after  \n",
       "0 2022-11-01        2022-12-01         2023-01-01  \n",
       "1 2022-11-01        2022-12-01         2023-01-01  \n",
       "2 2022-11-01        2022-12-01         2023-01-01  \n",
       "3 2022-11-01        2022-12-01         2023-01-01  \n",
       "4 2022-11-01        2022-12-01         2023-01-01  "
      ],
      "text/html": [
       "<div>\n",
       "<style scoped>\n",
       "    .dataframe tbody tr th:only-of-type {\n",
       "        vertical-align: middle;\n",
       "    }\n",
       "\n",
       "    .dataframe tbody tr th {\n",
       "        vertical-align: top;\n",
       "    }\n",
       "\n",
       "    .dataframe thead th {\n",
       "        text-align: right;\n",
       "    }\n",
       "</style>\n",
       "<table border=\"1\" class=\"dataframe\">\n",
       "  <thead>\n",
       "    <tr style=\"text-align: right;\">\n",
       "      <th></th>\n",
       "      <th>id</th>\n",
       "      <th>month</th>\n",
       "      <th>AM</th>\n",
       "      <th>month_str</th>\n",
       "      <th>year</th>\n",
       "      <th>month_num</th>\n",
       "      <th>last_date</th>\n",
       "      <th>first_month_after</th>\n",
       "      <th>second_month_after</th>\n",
       "    </tr>\n",
       "  </thead>\n",
       "  <tbody>\n",
       "    <tr>\n",
       "      <th>0</th>\n",
       "      <td>42</td>\n",
       "      <td>ноябрь 2022</td>\n",
       "      <td>Васильев Артем Александрович</td>\n",
       "      <td>ноябрь</td>\n",
       "      <td>2022</td>\n",
       "      <td>11</td>\n",
       "      <td>2022-11-01</td>\n",
       "      <td>2022-12-01</td>\n",
       "      <td>2023-01-01</td>\n",
       "    </tr>\n",
       "    <tr>\n",
       "      <th>1</th>\n",
       "      <td>453</td>\n",
       "      <td>ноябрь 2022</td>\n",
       "      <td>Васильев Артем Александрович</td>\n",
       "      <td>ноябрь</td>\n",
       "      <td>2022</td>\n",
       "      <td>11</td>\n",
       "      <td>2022-11-01</td>\n",
       "      <td>2022-12-01</td>\n",
       "      <td>2023-01-01</td>\n",
       "    </tr>\n",
       "    <tr>\n",
       "      <th>2</th>\n",
       "      <td>548</td>\n",
       "      <td>ноябрь 2022</td>\n",
       "      <td>Михайлов Андрей Сергеевич</td>\n",
       "      <td>ноябрь</td>\n",
       "      <td>2022</td>\n",
       "      <td>11</td>\n",
       "      <td>2022-11-01</td>\n",
       "      <td>2022-12-01</td>\n",
       "      <td>2023-01-01</td>\n",
       "    </tr>\n",
       "    <tr>\n",
       "      <th>3</th>\n",
       "      <td>87</td>\n",
       "      <td>ноябрь 2022</td>\n",
       "      <td>Соколова Анастасия Викторовна</td>\n",
       "      <td>ноябрь</td>\n",
       "      <td>2022</td>\n",
       "      <td>11</td>\n",
       "      <td>2022-11-01</td>\n",
       "      <td>2022-12-01</td>\n",
       "      <td>2023-01-01</td>\n",
       "    </tr>\n",
       "    <tr>\n",
       "      <th>4</th>\n",
       "      <td>429</td>\n",
       "      <td>ноябрь 2022</td>\n",
       "      <td>Соколова Анастасия Викторовна</td>\n",
       "      <td>ноябрь</td>\n",
       "      <td>2022</td>\n",
       "      <td>11</td>\n",
       "      <td>2022-11-01</td>\n",
       "      <td>2022-12-01</td>\n",
       "      <td>2023-01-01</td>\n",
       "    </tr>\n",
       "  </tbody>\n",
       "</table>\n",
       "</div>"
      ]
     },
     "execution_count": 38,
     "metadata": {},
     "output_type": "execute_result"
    }
   ],
   "execution_count": 38
  },
  {
   "metadata": {},
   "cell_type": "markdown",
   "source": [
    "### 3. Расчет коэффициентов пролонгации\n",
    "\n",
    "Согласно заданию, нам нужно рассчитать два коэффициента:\n",
    "1. Для проектов, пролонгированных в первый месяц - отношение суммы отгрузки проектов, пролонгированных в первый месяц после завершения, к сумме отгрузки последнего месяца реализации всех завершившихся проектов\n",
    "2. Для проектов, пролонгированных во второй месяц - отношение суммы отгрузки проектов, пролонгированных во второй месяц, к сумме отгрузки последнего месяца проектов, не пролонгированных в первый\n"
   ],
   "id": "12ec58f2e0e0053f"
  },
  {
   "metadata": {},
   "cell_type": "markdown",
   "source": "Для удобства создадим функцию месяца и года из даты",
   "id": "e091030af9c3948e"
  },
  {
   "metadata": {
    "ExecuteTime": {
     "end_time": "2025-05-29T14:43:56.983132Z",
     "start_time": "2025-05-29T14:43:56.980048Z"
    }
   },
   "cell_type": "code",
   "source": [
    "def get_year_month(date):\n",
    "    return date.year, date.month"
   ],
   "id": "f7539e51aadd8bf5",
   "outputs": [],
   "execution_count": 39
  },
  {
   "metadata": {},
   "cell_type": "markdown",
   "source": "Добавим данные о последнем месяце, первом и втором месяце после завершения к финансовым данным",
   "id": "db7b447587e8e609"
  },
  {
   "metadata": {
    "ExecuteTime": {
     "end_time": "2025-05-29T14:44:17.489153Z",
     "start_time": "2025-05-29T14:44:17.470252Z"
    }
   },
   "cell_type": "code",
   "source": [
    "df_combined = pd.merge(df_financial_melted, df_prolongations[['id', 'last_date', 'first_month_after', 'second_month_after', 'AM']],\n",
    "                      on='id', how='inner')"
   ],
   "id": "35bb7e35ff972baa",
   "outputs": [],
   "execution_count": 40
  },
  {
   "metadata": {},
   "cell_type": "markdown",
   "source": "Создадим метки для идентификации, к какому периоду относится транзакция",
   "id": "ec9fbd38dd8abd09"
  },
  {
   "metadata": {
    "ExecuteTime": {
     "end_time": "2025-05-29T14:44:46.038845Z",
     "start_time": "2025-05-29T14:44:45.889791Z"
    }
   },
   "cell_type": "code",
   "source": [
    "df_combined['is_last_month'] = df_combined.apply(\n",
    "    lambda row: get_year_month(row['date']) == get_year_month(row['last_date']), axis=1)\n",
    "df_combined['is_first_month_after'] = df_combined.apply(\n",
    "    lambda row: get_year_month(row['date']) == get_year_month(row['first_month_after']), axis=1)\n",
    "df_combined['is_second_month_after'] = df_combined.apply(\n",
    "    lambda row: get_year_month(row['date']) == get_year_month(row['second_month_after']), axis=1)\n"
   ],
   "id": "89053ab749c8f15f",
   "outputs": [],
   "execution_count": 41
  },
  {
   "metadata": {
    "ExecuteTime": {
     "end_time": "2025-05-29T14:45:00.579245Z",
     "start_time": "2025-05-29T14:45:00.566451Z"
    }
   },
   "cell_type": "code",
   "source": "df_combined.head()",
   "id": "db8f7da8b66e9d55",
   "outputs": [
    {
     "data": {
      "text/plain": [
       "    id        Причина дубля                        Account        month  \\\n",
       "0   42                    0   Васильев Артем Александрович  Ноябрь 2022   \n",
       "1  665                    0   Васильев Артем Александрович  Ноябрь 2022   \n",
       "2  637                    0  Соколова Анастасия Викторовна  Ноябрь 2022   \n",
       "3  578                    0    Попова Екатерина Николаевна  Ноябрь 2022   \n",
       "4  592  первая часть оплаты   Васильев Артем Александрович  Ноябрь 2022   \n",
       "\n",
       "    amount  year_month  year  month_num       date  last_date  \\\n",
       "0  36220.0  (2022, 11)  2022         11 2022-11-01 2022-11-01   \n",
       "1  10000.0  (2022, 11)  2022         11 2022-11-01 2022-11-01   \n",
       "2  38045.0  (2022, 11)  2022         11 2022-11-01 2022-11-01   \n",
       "3  82800.0  (2022, 11)  2022         11 2022-11-01 2022-11-01   \n",
       "4  92302.0  (2022, 11)  2022         11 2022-11-01 2022-11-01   \n",
       "\n",
       "  first_month_after second_month_after                             AM  \\\n",
       "0        2022-12-01         2023-01-01   Васильев Артем Александрович   \n",
       "1        2022-12-01         2023-01-01   Васильев Артем Александрович   \n",
       "2        2022-12-01         2023-01-01  Соколова Анастасия Викторовна   \n",
       "3        2022-12-01         2023-01-01    Попова Екатерина Николаевна   \n",
       "4        2022-12-01         2023-01-01   Васильев Артем Александрович   \n",
       "\n",
       "   is_last_month  is_first_month_after  is_second_month_after  \n",
       "0           True                 False                  False  \n",
       "1           True                 False                  False  \n",
       "2           True                 False                  False  \n",
       "3           True                 False                  False  \n",
       "4           True                 False                  False  "
      ],
      "text/html": [
       "<div>\n",
       "<style scoped>\n",
       "    .dataframe tbody tr th:only-of-type {\n",
       "        vertical-align: middle;\n",
       "    }\n",
       "\n",
       "    .dataframe tbody tr th {\n",
       "        vertical-align: top;\n",
       "    }\n",
       "\n",
       "    .dataframe thead th {\n",
       "        text-align: right;\n",
       "    }\n",
       "</style>\n",
       "<table border=\"1\" class=\"dataframe\">\n",
       "  <thead>\n",
       "    <tr style=\"text-align: right;\">\n",
       "      <th></th>\n",
       "      <th>id</th>\n",
       "      <th>Причина дубля</th>\n",
       "      <th>Account</th>\n",
       "      <th>month</th>\n",
       "      <th>amount</th>\n",
       "      <th>year_month</th>\n",
       "      <th>year</th>\n",
       "      <th>month_num</th>\n",
       "      <th>date</th>\n",
       "      <th>last_date</th>\n",
       "      <th>first_month_after</th>\n",
       "      <th>second_month_after</th>\n",
       "      <th>AM</th>\n",
       "      <th>is_last_month</th>\n",
       "      <th>is_first_month_after</th>\n",
       "      <th>is_second_month_after</th>\n",
       "    </tr>\n",
       "  </thead>\n",
       "  <tbody>\n",
       "    <tr>\n",
       "      <th>0</th>\n",
       "      <td>42</td>\n",
       "      <td>0</td>\n",
       "      <td>Васильев Артем Александрович</td>\n",
       "      <td>Ноябрь 2022</td>\n",
       "      <td>36220.0</td>\n",
       "      <td>(2022, 11)</td>\n",
       "      <td>2022</td>\n",
       "      <td>11</td>\n",
       "      <td>2022-11-01</td>\n",
       "      <td>2022-11-01</td>\n",
       "      <td>2022-12-01</td>\n",
       "      <td>2023-01-01</td>\n",
       "      <td>Васильев Артем Александрович</td>\n",
       "      <td>True</td>\n",
       "      <td>False</td>\n",
       "      <td>False</td>\n",
       "    </tr>\n",
       "    <tr>\n",
       "      <th>1</th>\n",
       "      <td>665</td>\n",
       "      <td>0</td>\n",
       "      <td>Васильев Артем Александрович</td>\n",
       "      <td>Ноябрь 2022</td>\n",
       "      <td>10000.0</td>\n",
       "      <td>(2022, 11)</td>\n",
       "      <td>2022</td>\n",
       "      <td>11</td>\n",
       "      <td>2022-11-01</td>\n",
       "      <td>2022-11-01</td>\n",
       "      <td>2022-12-01</td>\n",
       "      <td>2023-01-01</td>\n",
       "      <td>Васильев Артем Александрович</td>\n",
       "      <td>True</td>\n",
       "      <td>False</td>\n",
       "      <td>False</td>\n",
       "    </tr>\n",
       "    <tr>\n",
       "      <th>2</th>\n",
       "      <td>637</td>\n",
       "      <td>0</td>\n",
       "      <td>Соколова Анастасия Викторовна</td>\n",
       "      <td>Ноябрь 2022</td>\n",
       "      <td>38045.0</td>\n",
       "      <td>(2022, 11)</td>\n",
       "      <td>2022</td>\n",
       "      <td>11</td>\n",
       "      <td>2022-11-01</td>\n",
       "      <td>2022-11-01</td>\n",
       "      <td>2022-12-01</td>\n",
       "      <td>2023-01-01</td>\n",
       "      <td>Соколова Анастасия Викторовна</td>\n",
       "      <td>True</td>\n",
       "      <td>False</td>\n",
       "      <td>False</td>\n",
       "    </tr>\n",
       "    <tr>\n",
       "      <th>3</th>\n",
       "      <td>578</td>\n",
       "      <td>0</td>\n",
       "      <td>Попова Екатерина Николаевна</td>\n",
       "      <td>Ноябрь 2022</td>\n",
       "      <td>82800.0</td>\n",
       "      <td>(2022, 11)</td>\n",
       "      <td>2022</td>\n",
       "      <td>11</td>\n",
       "      <td>2022-11-01</td>\n",
       "      <td>2022-11-01</td>\n",
       "      <td>2022-12-01</td>\n",
       "      <td>2023-01-01</td>\n",
       "      <td>Попова Екатерина Николаевна</td>\n",
       "      <td>True</td>\n",
       "      <td>False</td>\n",
       "      <td>False</td>\n",
       "    </tr>\n",
       "    <tr>\n",
       "      <th>4</th>\n",
       "      <td>592</td>\n",
       "      <td>первая часть оплаты</td>\n",
       "      <td>Васильев Артем Александрович</td>\n",
       "      <td>Ноябрь 2022</td>\n",
       "      <td>92302.0</td>\n",
       "      <td>(2022, 11)</td>\n",
       "      <td>2022</td>\n",
       "      <td>11</td>\n",
       "      <td>2022-11-01</td>\n",
       "      <td>2022-11-01</td>\n",
       "      <td>2022-12-01</td>\n",
       "      <td>2023-01-01</td>\n",
       "      <td>Васильев Артем Александрович</td>\n",
       "      <td>True</td>\n",
       "      <td>False</td>\n",
       "      <td>False</td>\n",
       "    </tr>\n",
       "  </tbody>\n",
       "</table>\n",
       "</div>"
      ]
     },
     "execution_count": 42,
     "metadata": {},
     "output_type": "execute_result"
    }
   ],
   "execution_count": 42
  },
  {
   "metadata": {},
   "cell_type": "markdown",
   "source": "Расчет коэффициентов пролонгации по месяцам за 2023 год",
   "id": "9f462c54034ee585"
  },
  {
   "metadata": {
    "ExecuteTime": {
     "end_time": "2025-05-29T14:45:58.766394Z",
     "start_time": "2025-05-29T14:45:58.763569Z"
    }
   },
   "cell_type": "code",
   "source": [
    "result_months = []\n",
    "result_AMs = []\n",
    "first_prolongation_coeffs = []\n",
    "second_prolongation_coeffs = []"
   ],
   "id": "6e0f63b5d47360c",
   "outputs": [],
   "execution_count": 43
  },
  {
   "metadata": {},
   "cell_type": "markdown",
   "source": "Месяцы, для которых мы рассчитываем коэффициенты пролонгации в 2023 году",
   "id": "9cbbed480b9da1a0"
  },
  {
   "metadata": {
    "ExecuteTime": {
     "end_time": "2025-05-29T14:49:00.565681Z",
     "start_time": "2025-05-29T14:48:59.713885Z"
    }
   },
   "cell_type": "code",
   "source": [
    "for month in range(1, 13):\n",
    "    # Определяем дату последнего месяца (предыдущий месяц)\n",
    "    last_month_date = pd.to_datetime(f'2023-{month}-01') - pd.DateOffset(months=1)\n",
    "    last_month_year, last_month_num = last_month_date.year, last_month_date.month\n",
    "\n",
    "    # Определяем дату первого месяца после завершения (текущий месяц)\n",
    "    first_month_date = pd.to_datetime(f'2023-{month}-01')\n",
    "\n",
    "    # Определяем дату второго месяца после завершения\n",
    "    second_month_date = first_month_date + pd.DateOffset(months=1)\n",
    "\n",
    "    # Фильтруем проекты, завершившиеся в последнем месяце\n",
    "    last_month_projects = df_combined[\n",
    "        (df_combined['date'].dt.year == last_month_year) &\n",
    "        (df_combined['date'].dt.month == last_month_num) &\n",
    "        (df_combined['is_last_month'])\n",
    "    ]\n",
    "\n",
    "    # Получаем уникальные ID проектов, завершившихся в последнем месяце\n",
    "    last_month_project_ids = last_month_projects['id'].unique()\n",
    "\n",
    "    # Для каждого Account Manager и для всего отдела в целом\n",
    "    am_list = list(df_combined['AM'].unique()) + ['Все менеджеры']\n",
    "\n",
    "    for am in am_list:\n",
    "        if am == 'Все менеджеры':\n",
    "            # Для всех менеджеров используем все проекты\n",
    "            last_month_am_projects = last_month_projects.copy()\n",
    "        else:\n",
    "            # Для конкретного менеджера фильтруем проекты\n",
    "            last_month_am_projects = last_month_projects[last_month_projects['AM'] == am]\n",
    "\n",
    "        last_month_am_sum = last_month_am_projects['amount'].sum()\n",
    "\n",
    "        # Проекты, пролонгированные в первый месяц\n",
    "        if am == 'Все менеджеры':\n",
    "            first_month_prolonged = df_combined[\n",
    "                (df_combined['id'].isin(last_month_project_ids)) &\n",
    "                (df_combined['date'].dt.year == first_month_date.year) &\n",
    "                (df_combined['date'].dt.month == first_month_date.month) &\n",
    "                (df_combined['is_first_month_after'])\n",
    "            ]\n",
    "        else:\n",
    "            first_month_prolonged = df_combined[\n",
    "                (df_combined['id'].isin(last_month_project_ids)) &\n",
    "                (df_combined['date'].dt.year == first_month_date.year) &\n",
    "                (df_combined['date'].dt.month == first_month_date.month) &\n",
    "                (df_combined['is_first_month_after']) &\n",
    "                (df_combined['AM'] == am)\n",
    "            ]\n",
    "\n",
    "        first_month_prolonged_ids = first_month_prolonged['id'].unique()\n",
    "        first_month_prolonged_sum = first_month_prolonged['amount'].sum()\n",
    "\n",
    "        # Проекты, не пролонгированные в первый месяц\n",
    "        not_prolonged_first_month_ids = [pid for pid in last_month_am_projects['id'].unique()\n",
    "                                         if pid not in first_month_prolonged_ids]\n",
    "\n",
    "        # Проекты, завершившиеся 2 месяца назад и не пролонгированные в первый месяц\n",
    "        if am == 'Все менеджеры':\n",
    "            second_month_candidates = df_combined[\n",
    "                (df_combined['id'].isin(not_prolonged_first_month_ids)) &\n",
    "                (df_combined['date'].dt.year == last_month_year) &\n",
    "                (df_combined['date'].dt.month == last_month_num)\n",
    "            ]\n",
    "        else:\n",
    "            second_month_candidates = df_combined[\n",
    "                (df_combined['id'].isin(not_prolonged_first_month_ids)) &\n",
    "                (df_combined['date'].dt.year == last_month_year) &\n",
    "                (df_combined['date'].dt.month == last_month_num) &\n",
    "                (df_combined['AM'] == am)\n",
    "            ]\n",
    "\n",
    "        second_month_candidates_sum = second_month_candidates['amount'].sum()\n",
    "\n",
    "        # Проекты, пролонгированные во второй месяц\n",
    "        if am == 'Все менеджеры':\n",
    "            second_month_prolonged = df_combined[\n",
    "                (df_combined['id'].isin(not_prolonged_first_month_ids)) &\n",
    "                (df_combined['date'].dt.year == second_month_date.year) &\n",
    "                (df_combined['date'].dt.month == second_month_date.month) &\n",
    "                (df_combined['is_second_month_after'])\n",
    "            ]\n",
    "        else:\n",
    "            second_month_prolonged = df_combined[\n",
    "                (df_combined['id'].isin(not_prolonged_first_month_ids)) &\n",
    "                (df_combined['date'].dt.year == second_month_date.year) &\n",
    "                (df_combined['date'].dt.month == second_month_date.month) &\n",
    "                (df_combined['is_second_month_after']) &\n",
    "                (df_combined['AM'] == am)\n",
    "            ]\n",
    "\n",
    "        second_month_prolonged_sum = second_month_prolonged['amount'].sum()\n",
    "\n",
    "        # Расчет коэффициентов пролонгации\n",
    "        first_prolongation_coeff = first_month_prolonged_sum / last_month_am_sum if last_month_am_sum > 0 else 0\n",
    "        second_prolongation_coeff = second_month_prolonged_sum / second_month_candidates_sum if second_month_candidates_sum > 0 else 0\n",
    "\n",
    "        # Сохраняем результаты\n",
    "        month_name = list(month_map.keys())[list(month_map.values()).index(month)]\n",
    "        result_months.append(f\"{month_name.capitalize()} 2023\")\n",
    "        result_AMs.append(am)\n",
    "        first_prolongation_coeffs.append(first_prolongation_coeff)\n",
    "        second_prolongation_coeffs.append(second_prolongation_coeff)\n",
    "\n"
   ],
   "id": "70301b7e99dbd9d3",
   "outputs": [],
   "execution_count": 47
  },
  {
   "metadata": {},
   "cell_type": "markdown",
   "source": "Cоздадим DataFrame с результатами",
   "id": "754f643c3bf28b77"
  },
  {
   "metadata": {
    "ExecuteTime": {
     "end_time": "2025-05-29T14:49:03.720940Z",
     "start_time": "2025-05-29T14:49:03.717277Z"
    }
   },
   "cell_type": "code",
   "source": [
    "results_df = pd.DataFrame({\n",
    "    'Месяц': result_months,\n",
    "    'Аккаунт-менеджер': result_AMs,\n",
    "    'Коэф. пролонгации (1-й месяц)': first_prolongation_coeffs,\n",
    "    'Коэф. пролонгации (2-й месяц)': second_prolongation_coeffs\n",
    "})\n"
   ],
   "id": "90c4a378047730fa",
   "outputs": [],
   "execution_count": 48
  },
  {
   "metadata": {},
   "cell_type": "markdown",
   "source": "Отформатируем результаты для более удобного отображения",
   "id": "a2bceb6a3f9d19b3"
  },
  {
   "metadata": {
    "ExecuteTime": {
     "end_time": "2025-05-29T14:49:22.555983Z",
     "start_time": "2025-05-29T14:49:22.551237Z"
    }
   },
   "cell_type": "code",
   "source": [
    "results_df['Коэф. пролонгации (1-й месяц)'] = results_df['Коэф. пролонгации (1-й месяц)'].map(lambda x: f\"{x:.2%}\")\n",
    "results_df['Коэф. пролонгации (2-й месяц)'] = results_df['Коэф. пролонгации (2-й месяц)'].map(lambda x: f\"{x:.2%}\")"
   ],
   "id": "7e675c94d8e50baf",
   "outputs": [],
   "execution_count": 49
  },
  {
   "metadata": {
    "ExecuteTime": {
     "end_time": "2025-05-29T14:50:48.732848Z",
     "start_time": "2025-05-29T14:50:48.729233Z"
    }
   },
   "cell_type": "code",
   "outputs": [
    {
     "data": {
      "text/plain": [
       "array(['Васильев Артем Александрович', 'Соколова Анастасия Викторовна',\n",
       "       'Попова Екатерина Николаевна', 'Михайлов Андрей Сергеевич',\n",
       "       'Иванова Мария Сергеевна', 'Смирнова Ольга Владимировна',\n",
       "       'Кузнецов Михаил Иванович', 'Федорова Марина Васильевна',\n",
       "       'Петрова Анна Дмитриевна', 'без А/М'], dtype=object)"
      ]
     },
     "execution_count": 55,
     "metadata": {},
     "output_type": "execute_result"
    }
   ],
   "execution_count": 55,
   "source": "df_combined.Account.unique()",
   "id": "9b62c934283f3732"
  },
  {
   "metadata": {
    "ExecuteTime": {
     "end_time": "2025-05-29T14:50:09.850094Z",
     "start_time": "2025-05-29T14:50:09.842561Z"
    }
   },
   "cell_type": "code",
   "source": "results_df.head(20)",
   "id": "332c9fc2f6ec54d6",
   "outputs": [
    {
     "data": {
      "text/plain": [
       "          Месяц               Аккаунт-менеджер Коэф. пролонгации (1-й месяц)  \\\n",
       "0   Январь 2023   Васильев Артем Александрович                        55.62%   \n",
       "1   Январь 2023  Соколова Анастасия Викторовна                        42.73%   \n",
       "2   Январь 2023    Попова Екатерина Николаевна                        44.07%   \n",
       "3   Январь 2023      Михайлов Андрей Сергеевич                        68.79%   \n",
       "4   Январь 2023        Иванова Мария Сергеевна                        27.01%   \n",
       "5   Январь 2023    Смирнова Ольга Владимировна                        74.34%   \n",
       "6   Январь 2023       Кузнецов Михаил Иванович                       126.60%   \n",
       "7   Январь 2023     Федорова Марина Васильевна                         0.00%   \n",
       "8   Январь 2023        Петрова Анна Дмитриевна                         0.00%   \n",
       "9   Январь 2023                        без А/М                         0.00%   \n",
       "10  Январь 2023   Васильев Артем Александрович                        55.62%   \n",
       "11  Январь 2023  Соколова Анастасия Викторовна                        42.73%   \n",
       "12  Январь 2023    Попова Екатерина Николаевна                        44.07%   \n",
       "13  Январь 2023      Михайлов Андрей Сергеевич                        68.79%   \n",
       "14  Январь 2023        Иванова Мария Сергеевна                        27.01%   \n",
       "15  Январь 2023    Смирнова Ольга Владимировна                        74.34%   \n",
       "16  Январь 2023       Кузнецов Михаил Иванович                       126.60%   \n",
       "17  Январь 2023     Федорова Марина Васильевна                         0.00%   \n",
       "18  Январь 2023        Петрова Анна Дмитриевна                         0.00%   \n",
       "19  Январь 2023                        без А/М                         0.00%   \n",
       "\n",
       "   Коэф. пролонгации (2-й месяц)  \n",
       "0                          7.20%  \n",
       "1                         21.57%  \n",
       "2                          0.00%  \n",
       "3                          0.00%  \n",
       "4                          0.00%  \n",
       "5                          0.00%  \n",
       "6                          0.00%  \n",
       "7                          0.00%  \n",
       "8                          0.00%  \n",
       "9                          0.00%  \n",
       "10                         7.20%  \n",
       "11                        21.57%  \n",
       "12                         0.00%  \n",
       "13                         0.00%  \n",
       "14                         0.00%  \n",
       "15                         0.00%  \n",
       "16                         0.00%  \n",
       "17                         0.00%  \n",
       "18                         0.00%  \n",
       "19                         0.00%  "
      ],
      "text/html": [
       "<div>\n",
       "<style scoped>\n",
       "    .dataframe tbody tr th:only-of-type {\n",
       "        vertical-align: middle;\n",
       "    }\n",
       "\n",
       "    .dataframe tbody tr th {\n",
       "        vertical-align: top;\n",
       "    }\n",
       "\n",
       "    .dataframe thead th {\n",
       "        text-align: right;\n",
       "    }\n",
       "</style>\n",
       "<table border=\"1\" class=\"dataframe\">\n",
       "  <thead>\n",
       "    <tr style=\"text-align: right;\">\n",
       "      <th></th>\n",
       "      <th>Месяц</th>\n",
       "      <th>Аккаунт-менеджер</th>\n",
       "      <th>Коэф. пролонгации (1-й месяц)</th>\n",
       "      <th>Коэф. пролонгации (2-й месяц)</th>\n",
       "    </tr>\n",
       "  </thead>\n",
       "  <tbody>\n",
       "    <tr>\n",
       "      <th>0</th>\n",
       "      <td>Январь 2023</td>\n",
       "      <td>Васильев Артем Александрович</td>\n",
       "      <td>55.62%</td>\n",
       "      <td>7.20%</td>\n",
       "    </tr>\n",
       "    <tr>\n",
       "      <th>1</th>\n",
       "      <td>Январь 2023</td>\n",
       "      <td>Соколова Анастасия Викторовна</td>\n",
       "      <td>42.73%</td>\n",
       "      <td>21.57%</td>\n",
       "    </tr>\n",
       "    <tr>\n",
       "      <th>2</th>\n",
       "      <td>Январь 2023</td>\n",
       "      <td>Попова Екатерина Николаевна</td>\n",
       "      <td>44.07%</td>\n",
       "      <td>0.00%</td>\n",
       "    </tr>\n",
       "    <tr>\n",
       "      <th>3</th>\n",
       "      <td>Январь 2023</td>\n",
       "      <td>Михайлов Андрей Сергеевич</td>\n",
       "      <td>68.79%</td>\n",
       "      <td>0.00%</td>\n",
       "    </tr>\n",
       "    <tr>\n",
       "      <th>4</th>\n",
       "      <td>Январь 2023</td>\n",
       "      <td>Иванова Мария Сергеевна</td>\n",
       "      <td>27.01%</td>\n",
       "      <td>0.00%</td>\n",
       "    </tr>\n",
       "    <tr>\n",
       "      <th>5</th>\n",
       "      <td>Январь 2023</td>\n",
       "      <td>Смирнова Ольга Владимировна</td>\n",
       "      <td>74.34%</td>\n",
       "      <td>0.00%</td>\n",
       "    </tr>\n",
       "    <tr>\n",
       "      <th>6</th>\n",
       "      <td>Январь 2023</td>\n",
       "      <td>Кузнецов Михаил Иванович</td>\n",
       "      <td>126.60%</td>\n",
       "      <td>0.00%</td>\n",
       "    </tr>\n",
       "    <tr>\n",
       "      <th>7</th>\n",
       "      <td>Январь 2023</td>\n",
       "      <td>Федорова Марина Васильевна</td>\n",
       "      <td>0.00%</td>\n",
       "      <td>0.00%</td>\n",
       "    </tr>\n",
       "    <tr>\n",
       "      <th>8</th>\n",
       "      <td>Январь 2023</td>\n",
       "      <td>Петрова Анна Дмитриевна</td>\n",
       "      <td>0.00%</td>\n",
       "      <td>0.00%</td>\n",
       "    </tr>\n",
       "    <tr>\n",
       "      <th>9</th>\n",
       "      <td>Январь 2023</td>\n",
       "      <td>без А/М</td>\n",
       "      <td>0.00%</td>\n",
       "      <td>0.00%</td>\n",
       "    </tr>\n",
       "    <tr>\n",
       "      <th>10</th>\n",
       "      <td>Январь 2023</td>\n",
       "      <td>Васильев Артем Александрович</td>\n",
       "      <td>55.62%</td>\n",
       "      <td>7.20%</td>\n",
       "    </tr>\n",
       "    <tr>\n",
       "      <th>11</th>\n",
       "      <td>Январь 2023</td>\n",
       "      <td>Соколова Анастасия Викторовна</td>\n",
       "      <td>42.73%</td>\n",
       "      <td>21.57%</td>\n",
       "    </tr>\n",
       "    <tr>\n",
       "      <th>12</th>\n",
       "      <td>Январь 2023</td>\n",
       "      <td>Попова Екатерина Николаевна</td>\n",
       "      <td>44.07%</td>\n",
       "      <td>0.00%</td>\n",
       "    </tr>\n",
       "    <tr>\n",
       "      <th>13</th>\n",
       "      <td>Январь 2023</td>\n",
       "      <td>Михайлов Андрей Сергеевич</td>\n",
       "      <td>68.79%</td>\n",
       "      <td>0.00%</td>\n",
       "    </tr>\n",
       "    <tr>\n",
       "      <th>14</th>\n",
       "      <td>Январь 2023</td>\n",
       "      <td>Иванова Мария Сергеевна</td>\n",
       "      <td>27.01%</td>\n",
       "      <td>0.00%</td>\n",
       "    </tr>\n",
       "    <tr>\n",
       "      <th>15</th>\n",
       "      <td>Январь 2023</td>\n",
       "      <td>Смирнова Ольга Владимировна</td>\n",
       "      <td>74.34%</td>\n",
       "      <td>0.00%</td>\n",
       "    </tr>\n",
       "    <tr>\n",
       "      <th>16</th>\n",
       "      <td>Январь 2023</td>\n",
       "      <td>Кузнецов Михаил Иванович</td>\n",
       "      <td>126.60%</td>\n",
       "      <td>0.00%</td>\n",
       "    </tr>\n",
       "    <tr>\n",
       "      <th>17</th>\n",
       "      <td>Январь 2023</td>\n",
       "      <td>Федорова Марина Васильевна</td>\n",
       "      <td>0.00%</td>\n",
       "      <td>0.00%</td>\n",
       "    </tr>\n",
       "    <tr>\n",
       "      <th>18</th>\n",
       "      <td>Январь 2023</td>\n",
       "      <td>Петрова Анна Дмитриевна</td>\n",
       "      <td>0.00%</td>\n",
       "      <td>0.00%</td>\n",
       "    </tr>\n",
       "    <tr>\n",
       "      <th>19</th>\n",
       "      <td>Январь 2023</td>\n",
       "      <td>без А/М</td>\n",
       "      <td>0.00%</td>\n",
       "      <td>0.00%</td>\n",
       "    </tr>\n",
       "  </tbody>\n",
       "</table>\n",
       "</div>"
      ]
     },
     "execution_count": 53,
     "metadata": {},
     "output_type": "execute_result"
    }
   ],
   "execution_count": 53
  },
  {
   "metadata": {},
   "cell_type": "markdown",
   "source": [
    "Результаты по сотрудникам:\n",
    "Отличные результаты:\n",
    "\n",
    "Кузнецов М.И. - 126.6% (лидер отдела)\n",
    "Смирнова О.В. - 74.3%\n",
    "Михайлов А.С. - 68.8%\n",
    "\n",
    "Средние результаты:\n",
    "\n",
    "Васильев А.А. - 55.6% + 7.2% (второй месяц)\n",
    "Попова Е.Н. - 44.1%\n",
    "Соколова А.В. - 42.7% + 21.6% (второй месяц)\n",
    "\n",
    "Проблемные зоны:\n",
    "\n",
    "Иванова М.С. - 27.0% (низко)\n",
    "Федорова М.В. - 0% (критично)\n",
    "Петрова А.Д. - 0% (критично)\n",
    "\n",
    "Выводы:\n",
    "Сильные стороны:\n",
    "\n",
    "3 сотрудника показывают отличные результаты\n",
    "Кузнецов превышает план на 26%\n",
    "\n",
    "Проблемы:\n",
    "\n",
    "3 сотрудника требуют срочного внимания\n",
    "Низкая активность пролонгации во 2-м месяце\n",
    "\n",
    "Рекомендации:\n",
    "\n",
    "Изучить методы Кузнецова М.И.\n",
    "Разобраться с нулевыми показателями\n",
    "Повысить работу с \"упущенными\" клиентами\n",
    "Организовать обучение отстающих\n",
    "\n",
    "Средний результат отдела: ~50% (1-й месяц), ~5% (2-й месяц)"
   ],
   "id": "96dbc7b1a1030ec8"
  },
  {
   "metadata": {},
   "cell_type": "markdown",
   "source": [
    "### 4. Визуализация и анализ результатов\n",
    "\n",
    "Добавим визуализации для лучшего понимания данных и тенденций"
   ],
   "id": "8a13a3f0f7c94b47"
  },
  {
   "metadata": {
    "ExecuteTime": {
     "end_time": "2025-05-29T15:01:40.942143Z",
     "start_time": "2025-05-29T15:01:40.931055Z"
    }
   },
   "cell_type": "code",
   "source": [
    "# Подготовим данные для визуализации\n",
    "# Преобразуем процентные строки обратно в числа для визуализации\n",
    "plot_df = results_df.copy()\n",
    "plot_df['Коэф. пролонгации (1-й месяц)'] = plot_df['Коэф. пролонгации (1-й месяц)'].str.rstrip('%').astype(float) / 100\n",
    "plot_df['Коэф. пролонгации (2-й месяц)'] = plot_df['Коэф. пролонгации (2-й месяц)'].str.rstrip('%').astype(float) / 100\n",
    "\n",
    "# Фильтруем данные только для \"Все менеджеры\" для общей динамики\n",
    "all_managers_df = plot_df[plot_df['Аккаунт-менеджер'] == 'Все менеджеры'].copy()\n",
    "all_managers_df['Месяц'] = pd.Categorical(all_managers_df['Месяц'],\n",
    "                                         categories=[f\"{m.capitalize()} 2023\" for m in list(month_map.keys())],\n",
    "\n"
   ],
   "id": "b0d42cc1fc3ed765",
   "outputs": [
    {
     "ename": "_IncompleteInputError",
     "evalue": "incomplete input (1831717265.py, line 12)",
     "output_type": "error",
     "traceback": [
      "  \u001B[36mCell\u001B[39m\u001B[36m \u001B[39m\u001B[32mIn[56]\u001B[39m\u001B[32m, line 12\u001B[39m\n\u001B[31m    \u001B[39m\n    ^\n\u001B[31m_IncompleteInputError\u001B[39m\u001B[31m:\u001B[39m incomplete input\n"
     ]
    }
   ],
   "execution_count": 56
  }
 ],
 "metadata": {
  "kernelspec": {
   "display_name": "Python 3",
   "language": "python",
   "name": "python3"
  },
  "language_info": {
   "codemirror_mode": {
    "name": "ipython",
    "version": 2
   },
   "file_extension": ".py",
   "mimetype": "text/x-python",
   "name": "python",
   "nbconvert_exporter": "python",
   "pygments_lexer": "ipython2",
   "version": "2.7.6"
  }
 },
 "nbformat": 4,
 "nbformat_minor": 5
}

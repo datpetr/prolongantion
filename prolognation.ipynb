{
 "cells": [
  {
   "metadata": {},
   "cell_type": "markdown",
   "source": "импортируем нужные библиотеки",
   "id": "3f01fdfabbb02ac2"
  },
  {
   "cell_type": "code",
   "id": "initial_id",
   "metadata": {
    "collapsed": true,
    "ExecuteTime": {
     "end_time": "2025-05-29T14:09:27.131733Z",
     "start_time": "2025-05-29T14:09:24.657835Z"
    }
   },
   "source": [
    "import pandas as pd\n",
    "import numpy as np\n",
    "import matplotlib.pyplot as plt\n",
    "import seaborn as sns"
   ],
   "outputs": [],
   "execution_count": 1
  },
  {
   "metadata": {},
   "cell_type": "markdown",
   "source": "### 1. Чистка данных",
   "id": "ec4be0cf115555cc"
  },
  {
   "metadata": {
    "ExecuteTime": {
     "end_time": "2025-05-29T14:09:27.192230Z",
     "start_time": "2025-05-29T14:09:27.176163Z"
    }
   },
   "cell_type": "code",
   "source": "df_financial = pd.read_csv('data/financial_data.csv')",
   "id": "8dfb73c1f91a4a74",
   "outputs": [],
   "execution_count": 2
  },
  {
   "metadata": {
    "ExecuteTime": {
     "end_time": "2025-05-29T14:09:27.554269Z",
     "start_time": "2025-05-29T14:09:27.534277Z"
    }
   },
   "cell_type": "code",
   "source": "df_financial.head()",
   "id": "41158a57116ec80b",
   "outputs": [
    {
     "data": {
      "text/plain": [
       "    id        Причина дубля Ноябрь 2022 Декабрь 2022 Январь 2023 Февраль 2023  \\\n",
       "0   42                  NaN   36 220,00          NaN         NaN          NaN   \n",
       "1  657  первая часть оплаты        стоп          NaN         NaN          NaN   \n",
       "2  657  вторая часть оплаты        стоп          NaN         NaN          NaN   \n",
       "3  594                  NaN        стоп          NaN         NaN          NaN   \n",
       "4  665                  NaN   10 000,00          NaN         NaN          NaN   \n",
       "\n",
       "  Март 2023 Апрель 2023 Май 2023 Июнь 2023 Июль 2023 Август 2023  \\\n",
       "0       NaN         NaN      NaN       NaN       NaN         NaN   \n",
       "1       NaN         NaN      NaN       NaN       NaN         NaN   \n",
       "2       NaN         NaN      NaN       NaN       NaN         NaN   \n",
       "3       NaN         NaN      NaN       NaN       NaN         NaN   \n",
       "4       NaN         NaN      NaN       NaN       NaN         NaN   \n",
       "\n",
       "  Сентябрь 2023 Октябрь 2023 Ноябрь 2023 Декабрь 2023 Январь 2024  \\\n",
       "0           NaN          NaN         NaN          NaN         NaN   \n",
       "1           NaN          NaN         NaN          NaN         NaN   \n",
       "2           NaN          NaN         NaN          NaN         NaN   \n",
       "3           NaN          NaN         NaN          NaN         NaN   \n",
       "4           NaN          NaN         NaN          NaN         NaN   \n",
       "\n",
       "  Февраль 2024                       Account  \n",
       "0          NaN  Васильев Артем Александрович  \n",
       "1          NaN  Васильев Артем Александрович  \n",
       "2          NaN  Васильев Артем Александрович  \n",
       "3          NaN  Васильев Артем Александрович  \n",
       "4          NaN  Васильев Артем Александрович  "
      ],
      "text/html": [
       "<div>\n",
       "<style scoped>\n",
       "    .dataframe tbody tr th:only-of-type {\n",
       "        vertical-align: middle;\n",
       "    }\n",
       "\n",
       "    .dataframe tbody tr th {\n",
       "        vertical-align: top;\n",
       "    }\n",
       "\n",
       "    .dataframe thead th {\n",
       "        text-align: right;\n",
       "    }\n",
       "</style>\n",
       "<table border=\"1\" class=\"dataframe\">\n",
       "  <thead>\n",
       "    <tr style=\"text-align: right;\">\n",
       "      <th></th>\n",
       "      <th>id</th>\n",
       "      <th>Причина дубля</th>\n",
       "      <th>Ноябрь 2022</th>\n",
       "      <th>Декабрь 2022</th>\n",
       "      <th>Январь 2023</th>\n",
       "      <th>Февраль 2023</th>\n",
       "      <th>Март 2023</th>\n",
       "      <th>Апрель 2023</th>\n",
       "      <th>Май 2023</th>\n",
       "      <th>Июнь 2023</th>\n",
       "      <th>Июль 2023</th>\n",
       "      <th>Август 2023</th>\n",
       "      <th>Сентябрь 2023</th>\n",
       "      <th>Октябрь 2023</th>\n",
       "      <th>Ноябрь 2023</th>\n",
       "      <th>Декабрь 2023</th>\n",
       "      <th>Январь 2024</th>\n",
       "      <th>Февраль 2024</th>\n",
       "      <th>Account</th>\n",
       "    </tr>\n",
       "  </thead>\n",
       "  <tbody>\n",
       "    <tr>\n",
       "      <th>0</th>\n",
       "      <td>42</td>\n",
       "      <td>NaN</td>\n",
       "      <td>36 220,00</td>\n",
       "      <td>NaN</td>\n",
       "      <td>NaN</td>\n",
       "      <td>NaN</td>\n",
       "      <td>NaN</td>\n",
       "      <td>NaN</td>\n",
       "      <td>NaN</td>\n",
       "      <td>NaN</td>\n",
       "      <td>NaN</td>\n",
       "      <td>NaN</td>\n",
       "      <td>NaN</td>\n",
       "      <td>NaN</td>\n",
       "      <td>NaN</td>\n",
       "      <td>NaN</td>\n",
       "      <td>NaN</td>\n",
       "      <td>NaN</td>\n",
       "      <td>Васильев Артем Александрович</td>\n",
       "    </tr>\n",
       "    <tr>\n",
       "      <th>1</th>\n",
       "      <td>657</td>\n",
       "      <td>первая часть оплаты</td>\n",
       "      <td>стоп</td>\n",
       "      <td>NaN</td>\n",
       "      <td>NaN</td>\n",
       "      <td>NaN</td>\n",
       "      <td>NaN</td>\n",
       "      <td>NaN</td>\n",
       "      <td>NaN</td>\n",
       "      <td>NaN</td>\n",
       "      <td>NaN</td>\n",
       "      <td>NaN</td>\n",
       "      <td>NaN</td>\n",
       "      <td>NaN</td>\n",
       "      <td>NaN</td>\n",
       "      <td>NaN</td>\n",
       "      <td>NaN</td>\n",
       "      <td>NaN</td>\n",
       "      <td>Васильев Артем Александрович</td>\n",
       "    </tr>\n",
       "    <tr>\n",
       "      <th>2</th>\n",
       "      <td>657</td>\n",
       "      <td>вторая часть оплаты</td>\n",
       "      <td>стоп</td>\n",
       "      <td>NaN</td>\n",
       "      <td>NaN</td>\n",
       "      <td>NaN</td>\n",
       "      <td>NaN</td>\n",
       "      <td>NaN</td>\n",
       "      <td>NaN</td>\n",
       "      <td>NaN</td>\n",
       "      <td>NaN</td>\n",
       "      <td>NaN</td>\n",
       "      <td>NaN</td>\n",
       "      <td>NaN</td>\n",
       "      <td>NaN</td>\n",
       "      <td>NaN</td>\n",
       "      <td>NaN</td>\n",
       "      <td>NaN</td>\n",
       "      <td>Васильев Артем Александрович</td>\n",
       "    </tr>\n",
       "    <tr>\n",
       "      <th>3</th>\n",
       "      <td>594</td>\n",
       "      <td>NaN</td>\n",
       "      <td>стоп</td>\n",
       "      <td>NaN</td>\n",
       "      <td>NaN</td>\n",
       "      <td>NaN</td>\n",
       "      <td>NaN</td>\n",
       "      <td>NaN</td>\n",
       "      <td>NaN</td>\n",
       "      <td>NaN</td>\n",
       "      <td>NaN</td>\n",
       "      <td>NaN</td>\n",
       "      <td>NaN</td>\n",
       "      <td>NaN</td>\n",
       "      <td>NaN</td>\n",
       "      <td>NaN</td>\n",
       "      <td>NaN</td>\n",
       "      <td>NaN</td>\n",
       "      <td>Васильев Артем Александрович</td>\n",
       "    </tr>\n",
       "    <tr>\n",
       "      <th>4</th>\n",
       "      <td>665</td>\n",
       "      <td>NaN</td>\n",
       "      <td>10 000,00</td>\n",
       "      <td>NaN</td>\n",
       "      <td>NaN</td>\n",
       "      <td>NaN</td>\n",
       "      <td>NaN</td>\n",
       "      <td>NaN</td>\n",
       "      <td>NaN</td>\n",
       "      <td>NaN</td>\n",
       "      <td>NaN</td>\n",
       "      <td>NaN</td>\n",
       "      <td>NaN</td>\n",
       "      <td>NaN</td>\n",
       "      <td>NaN</td>\n",
       "      <td>NaN</td>\n",
       "      <td>NaN</td>\n",
       "      <td>NaN</td>\n",
       "      <td>Васильев Артем Александрович</td>\n",
       "    </tr>\n",
       "  </tbody>\n",
       "</table>\n",
       "</div>"
      ]
     },
     "execution_count": 3,
     "metadata": {},
     "output_type": "execute_result"
    }
   ],
   "execution_count": 3
  },
  {
   "metadata": {},
   "cell_type": "markdown",
   "source": "похоже, что в данных есть пропуски. Посмотрим на количество пропусков в каждом столбце.",
   "id": "d6b9c8965274f42a"
  },
  {
   "metadata": {
    "ExecuteTime": {
     "end_time": "2025-05-29T14:09:27.869528Z",
     "start_time": "2025-05-29T14:09:27.866118Z"
    }
   },
   "cell_type": "code",
   "source": "missing_values = df_financial.isnull().sum()",
   "id": "96c52177332acd26",
   "outputs": [],
   "execution_count": 4
  },
  {
   "metadata": {
    "ExecuteTime": {
     "end_time": "2025-05-29T14:09:28.279377Z",
     "start_time": "2025-05-29T14:09:28.275514Z"
    }
   },
   "cell_type": "code",
   "source": [
    "missing_percentage = (missing_values / len(df_financial)) * 100\n",
    "missing_df = pd.DataFrame({\n",
    "    'Missing Values': missing_values,\n",
    "    'Percentage (%)': missing_percentage.round(2)\n",
    "})"
   ],
   "id": "e427ea38338b39d7",
   "outputs": [],
   "execution_count": 5
  },
  {
   "metadata": {
    "ExecuteTime": {
     "end_time": "2025-05-29T14:09:29.907317Z",
     "start_time": "2025-05-29T14:09:29.900761Z"
    }
   },
   "cell_type": "code",
   "source": "missing_df",
   "id": "810dde852582cf8",
   "outputs": [
    {
     "data": {
      "text/plain": [
       "               Missing Values  Percentage (%)\n",
       "id                          0            0.00\n",
       "Причина дубля             150           33.26\n",
       "Ноябрь 2022               295           65.41\n",
       "Декабрь 2022              292           64.75\n",
       "Январь 2023               312           69.18\n",
       "Февраль 2023              306           67.85\n",
       "Март 2023                 283           62.75\n",
       "Апрель 2023               277           61.42\n",
       "Май 2023                  261           57.87\n",
       "Июнь 2023                 261           57.87\n",
       "Июль 2023                 256           56.76\n",
       "Август 2023               252           55.88\n",
       "Сентябрь 2023             265           58.76\n",
       "Октябрь 2023              269           59.65\n",
       "Ноябрь 2023               280           62.08\n",
       "Декабрь 2023              305           67.63\n",
       "Январь 2024               356           78.94\n",
       "Февраль 2024              350           77.61\n",
       "Account                     0            0.00"
      ],
      "text/html": [
       "<div>\n",
       "<style scoped>\n",
       "    .dataframe tbody tr th:only-of-type {\n",
       "        vertical-align: middle;\n",
       "    }\n",
       "\n",
       "    .dataframe tbody tr th {\n",
       "        vertical-align: top;\n",
       "    }\n",
       "\n",
       "    .dataframe thead th {\n",
       "        text-align: right;\n",
       "    }\n",
       "</style>\n",
       "<table border=\"1\" class=\"dataframe\">\n",
       "  <thead>\n",
       "    <tr style=\"text-align: right;\">\n",
       "      <th></th>\n",
       "      <th>Missing Values</th>\n",
       "      <th>Percentage (%)</th>\n",
       "    </tr>\n",
       "  </thead>\n",
       "  <tbody>\n",
       "    <tr>\n",
       "      <th>id</th>\n",
       "      <td>0</td>\n",
       "      <td>0.00</td>\n",
       "    </tr>\n",
       "    <tr>\n",
       "      <th>Причина дубля</th>\n",
       "      <td>150</td>\n",
       "      <td>33.26</td>\n",
       "    </tr>\n",
       "    <tr>\n",
       "      <th>Ноябрь 2022</th>\n",
       "      <td>295</td>\n",
       "      <td>65.41</td>\n",
       "    </tr>\n",
       "    <tr>\n",
       "      <th>Декабрь 2022</th>\n",
       "      <td>292</td>\n",
       "      <td>64.75</td>\n",
       "    </tr>\n",
       "    <tr>\n",
       "      <th>Январь 2023</th>\n",
       "      <td>312</td>\n",
       "      <td>69.18</td>\n",
       "    </tr>\n",
       "    <tr>\n",
       "      <th>Февраль 2023</th>\n",
       "      <td>306</td>\n",
       "      <td>67.85</td>\n",
       "    </tr>\n",
       "    <tr>\n",
       "      <th>Март 2023</th>\n",
       "      <td>283</td>\n",
       "      <td>62.75</td>\n",
       "    </tr>\n",
       "    <tr>\n",
       "      <th>Апрель 2023</th>\n",
       "      <td>277</td>\n",
       "      <td>61.42</td>\n",
       "    </tr>\n",
       "    <tr>\n",
       "      <th>Май 2023</th>\n",
       "      <td>261</td>\n",
       "      <td>57.87</td>\n",
       "    </tr>\n",
       "    <tr>\n",
       "      <th>Июнь 2023</th>\n",
       "      <td>261</td>\n",
       "      <td>57.87</td>\n",
       "    </tr>\n",
       "    <tr>\n",
       "      <th>Июль 2023</th>\n",
       "      <td>256</td>\n",
       "      <td>56.76</td>\n",
       "    </tr>\n",
       "    <tr>\n",
       "      <th>Август 2023</th>\n",
       "      <td>252</td>\n",
       "      <td>55.88</td>\n",
       "    </tr>\n",
       "    <tr>\n",
       "      <th>Сентябрь 2023</th>\n",
       "      <td>265</td>\n",
       "      <td>58.76</td>\n",
       "    </tr>\n",
       "    <tr>\n",
       "      <th>Октябрь 2023</th>\n",
       "      <td>269</td>\n",
       "      <td>59.65</td>\n",
       "    </tr>\n",
       "    <tr>\n",
       "      <th>Ноябрь 2023</th>\n",
       "      <td>280</td>\n",
       "      <td>62.08</td>\n",
       "    </tr>\n",
       "    <tr>\n",
       "      <th>Декабрь 2023</th>\n",
       "      <td>305</td>\n",
       "      <td>67.63</td>\n",
       "    </tr>\n",
       "    <tr>\n",
       "      <th>Январь 2024</th>\n",
       "      <td>356</td>\n",
       "      <td>78.94</td>\n",
       "    </tr>\n",
       "    <tr>\n",
       "      <th>Февраль 2024</th>\n",
       "      <td>350</td>\n",
       "      <td>77.61</td>\n",
       "    </tr>\n",
       "    <tr>\n",
       "      <th>Account</th>\n",
       "      <td>0</td>\n",
       "      <td>0.00</td>\n",
       "    </tr>\n",
       "  </tbody>\n",
       "</table>\n",
       "</div>"
      ]
     },
     "execution_count": 6,
     "metadata": {},
     "output_type": "execute_result"
    }
   ],
   "execution_count": 6
  },
  {
   "metadata": {},
   "cell_type": "markdown",
   "source": "Скорее всего пропусти в таблицы объясняют что тогда не было никаких транзакций, так что можно их заполнить нулями.",
   "id": "7abd2844d41f0d24"
  },
  {
   "metadata": {
    "ExecuteTime": {
     "end_time": "2025-05-29T14:09:32.768564Z",
     "start_time": "2025-05-29T14:09:32.764041Z"
    }
   },
   "cell_type": "code",
   "source": "df_financial.fillna(0, inplace=True)",
   "id": "befa17a5b9d17278",
   "outputs": [],
   "execution_count": 7
  },
  {
   "metadata": {
    "ExecuteTime": {
     "end_time": "2025-05-29T14:09:33.762496Z",
     "start_time": "2025-05-29T14:09:33.757241Z"
    }
   },
   "cell_type": "code",
   "source": "df_financial.isnull().sum()",
   "id": "1428959e0be9645f",
   "outputs": [
    {
     "data": {
      "text/plain": [
       "id               0\n",
       "Причина дубля    0\n",
       "Ноябрь 2022      0\n",
       "Декабрь 2022     0\n",
       "Январь 2023      0\n",
       "Февраль 2023     0\n",
       "Март 2023        0\n",
       "Апрель 2023      0\n",
       "Май 2023         0\n",
       "Июнь 2023        0\n",
       "Июль 2023        0\n",
       "Август 2023      0\n",
       "Сентябрь 2023    0\n",
       "Октябрь 2023     0\n",
       "Ноябрь 2023      0\n",
       "Декабрь 2023     0\n",
       "Январь 2024      0\n",
       "Февраль 2024     0\n",
       "Account          0\n",
       "dtype: int64"
      ]
     },
     "execution_count": 8,
     "metadata": {},
     "output_type": "execute_result"
    }
   ],
   "execution_count": 8
  },
  {
   "metadata": {
    "ExecuteTime": {
     "end_time": "2025-05-29T14:09:36.862752Z",
     "start_time": "2025-05-29T14:09:36.857317Z"
    }
   },
   "cell_type": "code",
   "source": "df_prolongations = pd.read_csv('data/prolongations.csv')",
   "id": "432c722bc6ce081",
   "outputs": [],
   "execution_count": 9
  },
  {
   "metadata": {
    "ExecuteTime": {
     "end_time": "2025-05-29T14:09:37.749444Z",
     "start_time": "2025-05-29T14:09:37.742130Z"
    }
   },
   "cell_type": "code",
   "source": "df_prolongations.head()",
   "id": "4498a585bebc7856",
   "outputs": [
    {
     "data": {
      "text/plain": [
       "    id        month                             AM\n",
       "0   42  ноябрь 2022   Васильев Артем Александрович\n",
       "1  453  ноябрь 2022   Васильев Артем Александрович\n",
       "2  548  ноябрь 2022      Михайлов Андрей Сергеевич\n",
       "3   87  ноябрь 2022  Соколова Анастасия Викторовна\n",
       "4  429  ноябрь 2022  Соколова Анастасия Викторовна"
      ],
      "text/html": [
       "<div>\n",
       "<style scoped>\n",
       "    .dataframe tbody tr th:only-of-type {\n",
       "        vertical-align: middle;\n",
       "    }\n",
       "\n",
       "    .dataframe tbody tr th {\n",
       "        vertical-align: top;\n",
       "    }\n",
       "\n",
       "    .dataframe thead th {\n",
       "        text-align: right;\n",
       "    }\n",
       "</style>\n",
       "<table border=\"1\" class=\"dataframe\">\n",
       "  <thead>\n",
       "    <tr style=\"text-align: right;\">\n",
       "      <th></th>\n",
       "      <th>id</th>\n",
       "      <th>month</th>\n",
       "      <th>AM</th>\n",
       "    </tr>\n",
       "  </thead>\n",
       "  <tbody>\n",
       "    <tr>\n",
       "      <th>0</th>\n",
       "      <td>42</td>\n",
       "      <td>ноябрь 2022</td>\n",
       "      <td>Васильев Артем Александрович</td>\n",
       "    </tr>\n",
       "    <tr>\n",
       "      <th>1</th>\n",
       "      <td>453</td>\n",
       "      <td>ноябрь 2022</td>\n",
       "      <td>Васильев Артем Александрович</td>\n",
       "    </tr>\n",
       "    <tr>\n",
       "      <th>2</th>\n",
       "      <td>548</td>\n",
       "      <td>ноябрь 2022</td>\n",
       "      <td>Михайлов Андрей Сергеевич</td>\n",
       "    </tr>\n",
       "    <tr>\n",
       "      <th>3</th>\n",
       "      <td>87</td>\n",
       "      <td>ноябрь 2022</td>\n",
       "      <td>Соколова Анастасия Викторовна</td>\n",
       "    </tr>\n",
       "    <tr>\n",
       "      <th>4</th>\n",
       "      <td>429</td>\n",
       "      <td>ноябрь 2022</td>\n",
       "      <td>Соколова Анастасия Викторовна</td>\n",
       "    </tr>\n",
       "  </tbody>\n",
       "</table>\n",
       "</div>"
      ]
     },
     "execution_count": 10,
     "metadata": {},
     "output_type": "execute_result"
    }
   ],
   "execution_count": 10
  },
  {
   "metadata": {
    "ExecuteTime": {
     "end_time": "2025-05-29T14:09:39.952389Z",
     "start_time": "2025-05-29T14:09:39.946958Z"
    }
   },
   "cell_type": "code",
   "source": "df_prolongations.isnull().sum()",
   "id": "755d087c6c175415",
   "outputs": [
    {
     "data": {
      "text/plain": [
       "id       0\n",
       "month    0\n",
       "AM       0\n",
       "dtype: int64"
      ]
     },
     "execution_count": 11,
     "metadata": {},
     "output_type": "execute_result"
    }
   ],
   "execution_count": 11
  },
  {
   "metadata": {},
   "cell_type": "markdown",
   "source": "Здесь нет пропусков, давайте посмотрим на количество уникальных значений в каждом столбце.",
   "id": "11170eeb5220b491"
  },
  {
   "metadata": {
    "ExecuteTime": {
     "end_time": "2025-05-29T14:09:42.660916Z",
     "start_time": "2025-05-29T14:09:42.655358Z"
    }
   },
   "cell_type": "code",
   "source": "df_prolongations.nunique()",
   "id": "7417b6a68a48de99",
   "outputs": [
    {
     "data": {
      "text/plain": [
       "id       313\n",
       "month     14\n",
       "AM        10\n",
       "dtype: int64"
      ]
     },
     "execution_count": 12,
     "metadata": {},
     "output_type": "execute_result"
    }
   ],
   "execution_count": 12
  },
  {
   "metadata": {
    "ExecuteTime": {
     "end_time": "2025-05-29T14:09:46.217237Z",
     "start_time": "2025-05-29T14:09:46.210547Z"
    }
   },
   "cell_type": "code",
   "source": "df_financial.nunique()",
   "id": "afd32b71a34892fc",
   "outputs": [
    {
     "data": {
      "text/plain": [
       "id               314\n",
       "Причина дубля      7\n",
       "Ноябрь 2022      143\n",
       "Декабрь 2022     141\n",
       "Январь 2023      135\n",
       "Февраль 2023     139\n",
       "Март 2023        163\n",
       "Апрель 2023      162\n",
       "Май 2023         180\n",
       "Июнь 2023        170\n",
       "Июль 2023        181\n",
       "Август 2023      180\n",
       "Сентябрь 2023    169\n",
       "Октябрь 2023     164\n",
       "Ноябрь 2023      146\n",
       "Декабрь 2023     138\n",
       "Январь 2024       84\n",
       "Февраль 2024      92\n",
       "Account           10\n",
       "dtype: int64"
      ]
     },
     "execution_count": 13,
     "metadata": {},
     "output_type": "execute_result"
    }
   ],
   "execution_count": 13
  },
  {
   "metadata": {
    "ExecuteTime": {
     "end_time": "2025-05-29T14:09:49.551620Z",
     "start_time": "2025-05-29T14:09:49.545841Z"
    }
   },
   "cell_type": "code",
   "source": "df_financial['Причина дубля'].value_counts(dropna=False)",
   "id": "e6883bf96725f821",
   "outputs": [
    {
     "data": {
      "text/plain": [
       "Причина дубля\n",
       "0                      150\n",
       "первая часть оплаты    114\n",
       "вторая часть оплаты     99\n",
       "доп работы              38\n",
       "основные работы         38\n",
       "изменение ЮЛ            11\n",
       "карты, банки             1\n",
       "Name: count, dtype: int64"
      ]
     },
     "execution_count": 14,
     "metadata": {},
     "output_type": "execute_result"
    }
   ],
   "execution_count": 14
  },
  {
   "metadata": {},
   "cell_type": "markdown",
   "source": "похоже, что данные готовы к дальнейшей обработке. Давайте трансформируем их так, чтобы можно было легко анализировать финансовые данные по месяцам.",
   "id": "4d0121fb4729289a"
  },
  {
   "metadata": {
    "ExecuteTime": {
     "end_time": "2025-05-29T14:09:52.381320Z",
     "start_time": "2025-05-29T14:09:52.371742Z"
    }
   },
   "cell_type": "code",
   "source": "df_financial.info()",
   "id": "a38a4d3c4fb0b133",
   "outputs": [
    {
     "name": "stdout",
     "output_type": "stream",
     "text": [
      "<class 'pandas.core.frame.DataFrame'>\n",
      "RangeIndex: 451 entries, 0 to 450\n",
      "Data columns (total 19 columns):\n",
      " #   Column         Non-Null Count  Dtype \n",
      "---  ------         --------------  ----- \n",
      " 0   id             451 non-null    int64 \n",
      " 1   Причина дубля  451 non-null    object\n",
      " 2   Ноябрь 2022    451 non-null    object\n",
      " 3   Декабрь 2022   451 non-null    object\n",
      " 4   Январь 2023    451 non-null    object\n",
      " 5   Февраль 2023   451 non-null    object\n",
      " 6   Март 2023      451 non-null    object\n",
      " 7   Апрель 2023    451 non-null    object\n",
      " 8   Май 2023       451 non-null    object\n",
      " 9   Июнь 2023      451 non-null    object\n",
      " 10  Июль 2023      451 non-null    object\n",
      " 11  Август 2023    451 non-null    object\n",
      " 12  Сентябрь 2023  451 non-null    object\n",
      " 13  Октябрь 2023   451 non-null    object\n",
      " 14  Ноябрь 2023    451 non-null    object\n",
      " 15  Декабрь 2023   451 non-null    object\n",
      " 16  Январь 2024    451 non-null    object\n",
      " 17  Февраль 2024   451 non-null    object\n",
      " 18  Account        451 non-null    object\n",
      "dtypes: int64(1), object(18)\n",
      "memory usage: 67.1+ KB\n"
     ]
    }
   ],
   "execution_count": 15
  },
  {
   "metadata": {},
   "cell_type": "markdown",
   "source": "давайте создадим month mapping, чтобы преобразовать названия месяцев в числа. Это поможет нам в дальнейшем анализе и визуализации данных.",
   "id": "cad398a02e2a5c90"
  },
  {
   "metadata": {
    "ExecuteTime": {
     "end_time": "2025-05-29T14:18:50.423610Z",
     "start_time": "2025-05-29T14:18:50.420485Z"
    }
   },
   "cell_type": "code",
   "source": [
    "month_map = {\n",
    "    'январь': 1, 'февраль': 2, 'март': 3, 'апрель': 4,\n",
    "    'май': 5, 'июнь': 6, 'июль': 7, 'август': 8,\n",
    "    'сентябрь': 9, 'октябрь': 10, 'ноябрь': 11, 'декабрь': 12\n",
    "}"
   ],
   "id": "fb1109106196ceec",
   "outputs": [],
   "execution_count": 21
  },
  {
   "metadata": {},
   "cell_type": "code",
   "outputs": [],
   "execution_count": null,
   "source": [
    "\n",
    "# New Cell 3: Calculate Prolongation Coefficients\n",
    "\n",
    "import pandas as pd\n",
    "import numpy as np\n",
    "\n",
    "print(\"--- df_main head for reference ---\")\n",
    "print(df_main.head())\n",
    "print(\"\\\\n--- df_main info for reference ---\")\n",
    "df_main.info()\n",
    "\n",
    "# Ensure 'shipment' is numeric, fill NaNs with 0 if any slipped through or resulted from merges\n",
    "df_main['shipment'] = pd.to_numeric(df_main['shipment'], errors='coerce').fillna(0)\n",
    "\n",
    "# Step 1: Get the shipment value for each project in its specific project_end_month_num\n",
    "# This represents the \"sum of shipment of the last month of implementation\" for each project.\n",
    "df_project_end_shipments = df_main[\n",
    "    df_main['shipment_month_num'] == df_main['project_end_month_num']\n",
    "].copy()\n",
    "df_project_end_shipments = df_project_end_shipments[['id', 'Account_Manager', 'project_end_month_num', 'shipment']]\n",
    "df_project_end_shipments.rename(columns={'shipment': 'project_end_month_shipment_value'}, inplace=True)\n",
    "# Remove duplicates if any project ID has multiple entries for its end month shipment (e.g. from original financial data before aggregation)\n",
    "# Taking the sum here, assuming multiple entries for the same project in its end month should be summed up.\n",
    "# If it's guaranteed to be unique, this groupby won't change much.\n",
    "df_project_end_shipments = df_project_end_shipments.groupby(['id', 'Account_Manager', 'project_end_month_num'], as_index=False)['project_end_month_shipment_value'].sum()\n",
    "\n",
    "\n",
    "print(\"\\\\n--- df_project_end_shipments (Sample) ---\")\n",
    "print(df_project_end_shipments.head())\n",
    "print(f\"Total unique projects with end month shipment data: {df_project_end_shipments['id'].nunique()}\")\n",
    "\n",
    "\n",
    "# Initialize lists to store monthly results\n",
    "monthly_results = []\n",
    "\n",
    "# Months in 2023 for evaluation\n",
    "evaluation_months = range(1, 13) # 1 for Jan, ..., 12 for Dec\n",
    "\n",
    "for eval_month in evaluation_months:\n",
    "    # --- Calculate Coefficient 1 (C1) ---\n",
    "    # Projects that ended in the month prior to eval_month\n",
    "    c1_project_end_month = (eval_month - 1 - 1 + 12) % 12 + 1 # e.g., if eval_month=1 (Jan), c1_project_end_month=12 (Dec)\n",
    "\n",
    "    # Get all projects that ended in c1_project_end_month\n",
    "    ended_for_c1 = df_project_end_shipments[df_project_end_shipments['project_end_month_num'] == c1_project_end_month]\n",
    "\n",
    "    # Denominator D1: Sum of shipments in their project_end_month_num for projects ended in c1_project_end_month\n",
    "    # Grouped by Account_Manager\n",
    "    d1_by_manager = ended_for_c1.groupby('Account_Manager')['project_end_month_shipment_value'].sum()\n",
    "    d1_total = ended_for_c1['project_end_month_shipment_value'].sum()\n",
    "\n",
    "    # Numerator N1: Sum of shipments in eval_month for projects that ended in c1_project_end_month\n",
    "    # These are the projects that were prolonged into the first month (eval_month)\n",
    "    prolonged_for_c1_shipments = df_main[\n",
    "        (df_main['id'].isin(ended_for_c1['id'])) &\n",
    "        (df_main['shipment_month_num'] == eval_month) &\n",
    "        (df_main['shipment'] > 0) # Ensure there was actual shipment\n",
    "    ]\n",
    "    n1_by_manager = prolonged_for_c1_shipments.groupby('Account_Manager')['shipment'].sum()\n",
    "    n1_total = prolonged_for_c1_shipments['shipment'].sum()\n",
    "\n",
    "    # Calculate C1\n",
    "    c1_by_manager = (n1_by_manager / d1_by_manager).fillna(0).replace([np.inf, -np.inf], 0)\n",
    "    c1_total = (n1_total / d1_total) if d1_total > 0 else 0\n",
    "\n",
    "    # Store C1 results\n",
    "    for manager, coeff in c1_by_manager.items():\n",
    "        monthly_results.append({\n",
    "            'EvaluationMonth': eval_month, 'Account_Manager': manager,\n",
    "            'CoefficientType': 'C1', 'CoefficientValue': coeff,\n",
    "            'Numerator': n1_by_manager.get(manager, 0), 'Denominator': d1_by_manager.get(manager, 0)\n",
    "        })\n",
    "    monthly_results.append({\n",
    "        'EvaluationMonth': eval_month, 'Account_Manager': 'Overall',\n",
    "        'CoefficientType': 'C1', 'CoefficientValue': c1_total,\n",
    "        'Numerator': n1_total, 'Denominator': d1_total\n",
    "    })\n",
    "\n",
    "    # --- Calculate Coefficient 2 (C2) ---\n",
    "    # Projects that ended two months prior to eval_month\n",
    "    c2_project_end_month = (eval_month - 2 - 1 + 12) % 12 + 1 # e.g., if eval_month=1 (Jan), c2_project_end_month=11 (Nov)\n",
    "    month_to_check_non_prolongation_c2 = (eval_month - 1 - 1 + 12) % 12 + 1 # Month after c2_project_end_month\n",
    "\n",
    "    # Get all projects that ended in c2_project_end_month\n",
    "    ended_for_c2_candidates = df_project_end_shipments[\n",
    "        df_project_end_shipments['project_end_month_num'] == c2_project_end_month\n",
    "    ]\n",
    "\n",
    "    # Identify projects from ended_for_c2_candidates that were NOT prolonged in their first possible month (month_to_check_non_prolongation_c2)\n",
    "    shipments_in_first_prolongation_month_c2 = df_main[\n",
    "        (df_main['id'].isin(ended_for_c2_candidates['id'])) &\n",
    "        (df_main['shipment_month_num'] == month_to_check_non_prolongation_c2) &\n",
    "        (df_main['shipment'] > 0)\n",
    "    ]\n",
    "    ids_prolonged_in_first_month_c2 = shipments_in_first_prolongation_month_c2['id'].unique()\n",
    "\n",
    "    # These are the projects relevant for C2 denominator: ended in c2_project_end_month AND NOT prolonged in month_to_check_non_prolongation_c2\n",
    "    relevant_for_c2 = ended_for_c2_candidates[\n",
    "        ~ended_for_c2_candidates['id'].isin(ids_prolonged_in_first_month_c2)\n",
    "    ]\n",
    "\n",
    "    # Denominator D2: Sum of shipments in their project_end_month_num for relevant_for_c2 projects\n",
    "    d2_by_manager = relevant_for_c2.groupby('Account_Manager')['project_end_month_shipment_value'].sum()\n",
    "    d2_total = relevant_for_c2['project_end_month_shipment_value'].sum()\n",
    "\n",
    "    # Numerator N2: Sum of shipments in eval_month for projects in relevant_for_c2\n",
    "    # These are projects ended c2_project_end_month, not prolonged in month_to_check_non_prolongation_c2, but prolonged in eval_month\n",
    "    prolonged_for_c2_shipments = df_main[\n",
    "        (df_main['id'].isin(relevant_for_c2['id'])) &\n",
    "        (df_main['shipment_month_num'] == eval_month) &\n",
    "        (df_main['shipment'] > 0) # Ensure actual shipment\n",
    "    ]\n",
    "    n2_by_manager = prolonged_for_c2_shipments.groupby('Account_Manager')['shipment'].sum()\n",
    "    n2_total = prolonged_for_c2_shipments['shipment'].sum()\n",
    "\n",
    "    # Calculate C2\n",
    "    c2_by_manager = (n2_by_manager / d2_by_manager).fillna(0).replace([np.inf, -np.inf], 0)\n",
    "    c2_total = (n2_total / d2_total) if d2_total > 0 else 0\n",
    "\n",
    "    # Store C2 results\n",
    "    for manager, coeff in c2_by_manager.items():\n",
    "        monthly_results.append({\n",
    "            'EvaluationMonth': eval_month, 'Account_Manager': manager,\n",
    "            'CoefficientType': 'C2', 'CoefficientValue': coeff,\n",
    "            'Numerator': n2_by_manager.get(manager, 0), 'Denominator': d2_by_manager.get(manager, 0)\n",
    "        })\n",
    "    monthly_results.append({\n",
    "        'EvaluationMonth': eval_month, 'Account_Manager': 'Overall',\n",
    "        'CoefficientType': 'C2', 'CoefficientValue': c2_total,\n",
    "        'Numerator': n2_total, 'Denominator': d2_total\n",
    "    })\n",
    "\n",
    "# Convert results to DataFrame\n",
    "df_monthly_coeffs = pd.DataFrame(monthly_results)\n",
    "\n",
    "print(\"\\\\n--- Monthly Coefficients (Sample) ---\")\n",
    "print(df_monthly_coeffs.head())\n",
    "\n",
    "print(\"\\\\n--- Monthly Coefficients for a specific Manager (Example: first manager found) ---\")\n",
    "if not df_monthly_coeffs.empty and 'Account_Manager' in df_monthly_coeffs.columns:\n",
    "    sample_manager = df_monthly_coeffs[df_monthly_coeffs['Account_Manager'] != 'Overall']['Account_Manager'].unique()[0]\n",
    "    print(df_monthly_coeffs[df_monthly_coeffs['Account_Manager'] == sample_manager])\n",
    "\n",
    "print(\"\\\\n--- Monthly Coefficients for 'Overall' ---\")\n",
    "print(df_monthly_coeffs[df_monthly_coeffs['Account_Manager'] == 'Overall'])\n",
    "\n",
    "\n",
    "# --- Calculate Annual Coefficients ---\n",
    "# Sum of all numerators / Sum of all denominators for the year\n",
    "\n",
    "df_annual_coeffs_calcs = df_monthly_coeffs.groupby(['Account_Manager', 'CoefficientType']).agg(\n",
    "    TotalNumerator=('Numerator', 'sum'),\n",
    "    TotalDenominator=('Denominator', 'sum')\n",
    ").reset_index()\n",
    "\n",
    "df_annual_coeffs_calcs['AnnualCoefficientValue'] = (\n",
    "    df_annual_coeffs_calcs['TotalNumerator'] / df_annual_coeffs_calcs['TotalDenominator']\n",
    ").fillna(0).replace([np.inf, -np.inf], 0)\n",
    "\n",
    "print(\"\\\\n--- Annual Coefficients ---\")\n",
    "print(df_annual_coeffs_calcs)\n",
    "\n",
    "# Pivot monthly results for better readability if needed for Excel later\n",
    "df_monthly_coeffs_pivot_c1 = df_monthly_coeffs[df_monthly_coeffs['CoefficientType']=='C1'].pivot_table(\n",
    "    index='EvaluationMonth', columns='Account_Manager', values='CoefficientValue'\n",
    ").fillna(0)\n",
    "df_monthly_coeffs_pivot_c2 = df_monthly_coeffs[df_monthly_coeffs['CoefficientType']=='C2'].pivot_table(\n",
    "    index='EvaluationMonth', columns='Account_Manager', values='CoefficientValue'\n",
    ").fillna(0)\n",
    "\n",
    "print(\"\\\\n--- Monthly C1 Coefficients (Pivoted) ---\")\n",
    "print(df_monthly_coeffs_pivot_c1)\n",
    "print(\"\\\\n--- Monthly C2 Coefficients (Pivoted) ---\")\n",
    "print(df_monthly_coeffs_pivot_c2)\n",
    "\n",
    "# For annual, a similar pivot or just use df_annual_coeffs_calcs\n",
    "df_annual_coeffs_pivot = df_annual_coeffs_calcs.pivot_table(\n",
    "    index='Account_Manager', columns='CoefficientType', values='AnnualCoefficientValue'\n",
    ").fillna(0)\n",
    "\n",
    "print(\"\\\\n--- Annual Coefficients (Pivoted) ---\")\n",
    "print(df_annual_coeffs_pivot)\n",
    "\n",
    "# These DataFrames (df_monthly_coeffs_pivot_c1, df_monthly_coeffs_pivot_c2, df_annual_coeffs_pivot, and df_annual_coeffs_calcs for detailed N/D)\n",
    "# are now ready for export to Excel or further visualization.\n"
   ],
   "id": "31d890728325017e"
  }
 ],
 "metadata": {
  "kernelspec": {
   "display_name": "Python 3",
   "language": "python",
   "name": "python3"
  },
  "language_info": {
   "codemirror_mode": {
    "name": "ipython",
    "version": 2
   },
   "file_extension": ".py",
   "mimetype": "text/x-python",
   "name": "python",
   "nbconvert_exporter": "python",
   "pygments_lexer": "ipython2",
   "version": "2.7.6"
  }
 },
 "nbformat": 4,
 "nbformat_minor": 5
}
